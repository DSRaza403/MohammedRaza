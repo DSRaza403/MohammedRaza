{
 "cells": [
  {
   "cell_type": "markdown",
   "id": "8a9b169b",
   "metadata": {},
   "source": [
    "# Assigment 1 - Musab Ibne Ahmad (MCS231017)\n",
    "\n",
    "## Chapter 1 & Chapter 2\n",
    "\n",
    "#### Due Date: 16 November 2023\n",
    "\n",
    "Instructions:\n",
    "\n",
    "    1. This is an individual assignment. \n",
    "    2. The file to submit is in ipynb format (not py).\n",
    "    3. Please put your full name and matric number.\n",
    "    4. The assignment should be submitted by 11.59pm of the due date.\n"
   ]
  },
  {
   "cell_type": "markdown",
   "id": "c91a58b9",
   "metadata": {},
   "source": [
    "## Only use Python Basics for this assignment. \n",
    "## Do not import any other libraries or packages."
   ]
  },
  {
   "cell_type": "markdown",
   "id": "cecd873e",
   "metadata": {},
   "source": [
    "### Question 1\n",
    "\n",
    "Create a function name verbing which receive a string as the parameter. Upon receiving a string:\n",
    "- if its length is at least 3: add 'ing' to its end.\n",
    "- Unless it already ends in 'ing', in which case add 'ly' instead.\n",
    "- If the string length is less than 3, leave it unchanged.\n",
    "- Return the resulting string.\n",
    "\n",
    "Test your code with these strings. You should get the outputs as follow:\n",
    "\n",
    "    String\t          Expected Output\n",
    "    Hail\t             Hailing\n",
    "    Swimming\t     Swimmingly\n",
    "    Do\t                Do\n"
   ]
  },
  {
   "cell_type": "code",
   "execution_count": 37,
   "id": "91a1a8c4",
   "metadata": {},
   "outputs": [],
   "source": [
    "#Write your code here\n",
    "def q1(str):\n",
    "    if len(str) >= 3:\n",
    "        if str[-3:]==\"ing\":\n",
    "            str += \"ly\"\n",
    "        else:\n",
    "            str += \"ing\"\n",
    "    return str"
   ]
  },
  {
   "cell_type": "code",
   "execution_count": 38,
   "id": "7ecc8ece",
   "metadata": {},
   "outputs": [
    {
     "name": "stdout",
     "output_type": "stream",
     "text": [
      "Hailing\n",
      "paintingly\n",
      "Do\n"
     ]
    }
   ],
   "source": [
    "print(q1(\"Hail\"))\n",
    "print(q1(\"painting\"))\n",
    "print(q1(\"Do\"))"
   ]
  },
  {
   "cell_type": "markdown",
   "id": "d75acfd1",
   "metadata": {},
   "source": [
    "### Question 2\n",
    "\n",
    "Convert the following code to list comprehension.\n",
    "\t\n",
    "\tcords = [ ]\n",
    "\tfor x in range(4):\n",
    "    \tfor y in range(2):\n",
    "        \tcoordinate = (x, y)\n",
    "        \tcords.append(coordinate)\n",
    "\tprint(cords)"
   ]
  },
  {
   "cell_type": "code",
   "execution_count": 39,
   "id": "e774f711",
   "metadata": {},
   "outputs": [
    {
     "name": "stdout",
     "output_type": "stream",
     "text": [
      "[(0, 0), (0, 1), (1, 0), (1, 1), (2, 0), (2, 1), (3, 0), (3, 1)]\n"
     ]
    }
   ],
   "source": [
    "#Write your code here\n",
    "cords = [(x, y) for x in range(4) for y in range(2)]\n",
    "print(cords)"
   ]
  },
  {
   "cell_type": "markdown",
   "id": "0e079624",
   "metadata": {},
   "source": [
    "### Question 3\n",
    "\n",
    "Given an input list [34, 54, 67, 89, 11, 43, 94], use ```pop```, ```insert``` and ```append``` methods to\n",
    "- remove the element at index 4 \n",
    "- add it to the 2nd position and at the end of the list\n",
    "\n",
    "\n",
    "Expected output:\n",
    "\n",
    "    Original list  [34, 54, 67, 89, 11, 43, 94]\n",
    "    List after removing element at index 4  [34, 54, 67, 89, 43, 94]\n",
    "    List after Adding element at index 2  [34, 54, 11, 67, 89, 43, 94]\n",
    "    List after Adding element at last  [34, 54, 11, 67, 89, 43, 94, 11]"
   ]
  },
  {
   "cell_type": "code",
   "execution_count": 9,
   "id": "7e8b84fa",
   "metadata": {},
   "outputs": [
    {
     "name": "stdout",
     "output_type": "stream",
     "text": [
      "[34, 54, 67, 89, 43, 94]\n",
      "[34, 54, 11, 67, 89, 43, 94]\n",
      "[34, 54, 11, 67, 89, 43, 94, 11]\n"
     ]
    }
   ],
   "source": [
    "#Write your code here\n",
    "list = [34, 54, 67, 89, 11, 43, 94]\n",
    "poped_element = list.pop(4)\n",
    "print(list)\n",
    "list.insert(2,poped_element)\n",
    "print(list)\n",
    "list.append(poped_element)\n",
    "print(list)"
   ]
  },
  {
   "cell_type": "markdown",
   "id": "6d54c8b6",
   "metadata": {},
   "source": [
    "### Question 4\n",
    "\n",
    "Create a function named ``calculate_result`` which receive any values and perform these tasks:\n",
    "\n",
    "(i) If the value given is a valid input (0-100), the function returns these parameters:<br>\n",
    "        ``marks``: the value sent to the function <br>\n",
    "        ``status``: either 'PASS' for marks greater or equal to 40 or 'FAIL' for marks less than 40 <br>\n",
    "        ``grade``: grade given according to the marks <br>\n",
    "        ``point``: point given according to the marks\n",
    "\n",
    "(ii) If the value given is an invalid input which is out of the range, an error message \"The marks is out of range\" should be displayed. \n",
    "\n",
    "Figure 1 shows the grade and point allocated according to the marks.\n",
    "\n",
    "<br>\n",
    "<img src=\"Figure 1.png\", style=\"width: 200px\";>\n",
    "<p style=\"text-align: center;\">Figure 1</p>\n",
    "\n",
    "Your output should look like Figure 2 below. \n",
    "\n",
    "<br>\n",
    "<img src=\"Figure 2a.png\", style=\"width: 550px\";>\n",
    "<p style=\"text-align: center;\">Figure 2</p>"
   ]
  },
  {
   "cell_type": "code",
   "execution_count": 24,
   "id": "7a67aa62",
   "metadata": {},
   "outputs": [
    {
     "name": "stdout",
     "output_type": "stream",
     "text": [
      "Enter your marks : 45\n",
      "Your marks is: 45\n",
      "Your status is PASS with the grade of C- and poitn recieved is 1.67\n"
     ]
    }
   ],
   "source": [
    "#Write your code here\n",
    "def grade_and_point(sm):\n",
    "    if sm in range(90, 101):\n",
    "        grade = \"A+\"\n",
    "        point = 4.00\n",
    "    elif sm in range(80, 90):\n",
    "        grade = \"A\"\n",
    "        point = 4.00\n",
    "    elif sm in range(75, 80):\n",
    "        grade = \"A-\"\n",
    "        point = 3.67\n",
    "    elif sm in range(70, 75):\n",
    "        grade = \"B+\"\n",
    "        point = 3.33\n",
    "    elif sm in range(65, 70):\n",
    "        grade = \"B\"\n",
    "        point = 3.00\n",
    "    elif sm in range(60, 65):\n",
    "        grade = \"B-\"\n",
    "        point = 2.67\n",
    "    elif sm in range(55, 60):\n",
    "        grade = \"C+\"\n",
    "        point = 2.33\n",
    "    elif sm in range(50, 55):\n",
    "        grade = \"C\"\n",
    "        point = 2.00\n",
    "    elif sm in range(45, 50):\n",
    "        grade = \"C-\"\n",
    "        point = 1.67\n",
    "    elif sm in range(40, 45):\n",
    "        grade = \"D+\"\n",
    "        point = 1.33\n",
    "    elif sm in range(35, 40):\n",
    "        grade = \"D\"\n",
    "        point = 1.00\n",
    "    elif sm in range(30, 35):\n",
    "        grade = \"D-\"\n",
    "        point = 0.67\n",
    "    elif sm in range(0, 30):\n",
    "        grade = \"E\"\n",
    "        point = 0\n",
    "    \n",
    "    return grade, point\n",
    "\n",
    "def calculate_result(sm):\n",
    "    if sm in range(101):\n",
    "        print(f\"Your marks is: {sm}\")\n",
    "        if sm < 40:\n",
    "            status=\"FAIL\"\n",
    "        else:\n",
    "            status=\"PASS\"\n",
    "        grade, point = grade_and_point(sm)\n",
    "        print(f\"Your status is {status} with the grade of {grade} and poitn recieved is {point}\")\n",
    "        \n",
    "    else:\n",
    "        print(\"The marks is out of range\")\n",
    "marks = int(input(\"Enter your marks : \"))\n",
    "calculate_result(marks)"
   ]
  },
  {
   "cell_type": "markdown",
   "id": "904ee6fc",
   "metadata": {},
   "source": [
    "### Question 5\n",
    "\n",
    "Given a paragraph as follows:\n",
    "\n",
    "On most computer systems, localhost resolves to the IP address 10.100.11.121, which is the most commonly used IPv4 loopback address, and to the IPv6 loopback address. The localhost IP address is 192.168.11.10.\n",
    "\n",
    "Using regular expression, write the python code that can find the network IP address and replace it to 179.01.10.1."
   ]
  },
  {
   "cell_type": "code",
   "execution_count": 40,
   "id": "cd1b9204",
   "metadata": {},
   "outputs": [
    {
     "name": "stdout",
     "output_type": "stream",
     "text": [
      "On most computer systems, localhost resolves to the IP address 179.01.10.1, which is the most commonly used IPv4 loopback address, and to the IPv6 loopback address. The localhost IP address is 192.168.11.10.\n"
     ]
    }
   ],
   "source": [
    "#Write your code here\n",
    "import re\n",
    "paragraph = \"On most computer systems, localhost resolves to the IP address 10.100.11.121, which is the most commonly used IPv4 loopback address, and to the IPv6 loopback address. The localhost IP address is 192.168.11.10.\"\n",
    "\n",
    "network_ip_pattern = r'\\b10.100.11.121\\b'\n",
    "replaced_paragraph = re.sub(network_ip_pattern, '179.01.10.1', paragraph)\n",
    "\n",
    "print(replaced_paragraph)"
   ]
  },
  {
   "cell_type": "markdown",
   "id": "d6b20cbe",
   "metadata": {},
   "source": [
    "### Question 6\n",
    "\n",
    "A list of names in the format \"first_name last_name\" is given. Your task is to sort the list of names based on the last name in ascending order. Write a function called `sort_names_by_last_name` that takes in a list of names as input and uses a lambda function along with the ``sorted()`` function to solve the problem.\n",
    "\n",
    "Example:<br>\n",
    "If the input list is <br> `['John Smith', 'Alice Johnson', 'Michael Brown', 'Emily Davis']`, <br> the function should return <br> `['Michael Brown', 'Emily Davis', 'Alice Johnson', 'John Smith']`."
   ]
  },
  {
   "cell_type": "code",
   "execution_count": 1,
   "id": "ff8fad8e",
   "metadata": {},
   "outputs": [
    {
     "name": "stdout",
     "output_type": "stream",
     "text": [
      "['Michael Brown', 'Emily Davis', 'Alice Johnson', 'John Smith']\n"
     ]
    }
   ],
   "source": [
    "#Write your code here\n",
    "\n",
    "def sort_names_by_last_name(names):\n",
    "    sorted_names = sorted(names, key=lambda x: x.split()[-1])\n",
    "    return sorted_names\n",
    "\n",
    "list = ['John Smith', 'Alice Johnson', 'Michael Brown', 'Emily Davis']\n",
    "sorted_names_result = sort_names_by_last_name(list)\n",
    "print(sorted_names_result)"
   ]
  },
  {
   "cell_type": "markdown",
   "id": "d5cf2cd7",
   "metadata": {},
   "source": [
    "### Question 7\n",
    "\n",
    "A list of strings is given. Write a function called `string_lengths_dict` that takes in a list of strings as input and returns the dictionary using dictionary comprehension. The dictionary that will be created should have the keys which are the strings from the list, and the corresponding values are the lengths of the strings. \n",
    "\n",
    "Example:<br>\n",
    "If the input list is <br> `['apple', 'banana', 'cherry', 'date']`,<br> the function should return <br>`{'apple': 5, 'banana': 6, 'cherry': 6, 'date': 4}`."
   ]
  },
  {
   "cell_type": "code",
   "execution_count": 2,
   "id": "8dc535ef",
   "metadata": {},
   "outputs": [
    {
     "name": "stdout",
     "output_type": "stream",
     "text": [
      "{'apple': 5, 'banana': 6, 'cherry': 6, 'date': 4}\n"
     ]
    }
   ],
   "source": [
    "#Write your code here\n",
    "def string_lengths_dict(strings):\n",
    "    return {string: len(string) for string in strings}\n",
    "\n",
    "strings = ['apple', 'banana', 'cherry', 'date']\n",
    "result_dict = string_lengths_dict(strings)\n",
    "print(result_dict)\n"
   ]
  },
  {
   "cell_type": "markdown",
   "id": "eb0327c1",
   "metadata": {},
   "source": [
    "### Question 8\n",
    "\n",
    "Given a data file (Data_1.txt) that consists of an example daily sale information recorded manually for each of the transaction for a certain period. The information in the file consists of date, item name, amount sold, and price per unit.\n",
    "\n",
    "<br>\n",
    "<img src='Fig1.png' width='300px'>\n",
    "The sample of the data\n",
    "\n",
    "**INSTRUCTIONS:**\n",
    "1. Reads the data file in Python.\n",
    "2. Creates a function in Python called: **calculate_daily_sale** that:\n",
    "   - Able to calculate and return the sale of each item for every day.\n",
    "   - You need to determine the data structure for the returned information, where the returned result should be able to be accessed to show the sale of exact item on a specified day. E.g.: \n",
    "      - ```result[“2020-09-25”]``` *will returns the sale for each item on that day.*\n",
    "      - ```result[“2020-09-25”][“Item_B”]``` *will returns the sale of Item B on that day.*\n",
    "3. Creates a function in Python called: **get_total_sale** that:\n",
    "   - Able to combine the sale of a specific item throughout the period in the data file.\n",
    "   - The function should receive ONE argument:\n",
    "     - The result variable returned form **calculate_daily_sale**\n",
    "   - The function should return the total sale of each item throughout the period."
   ]
  },
  {
   "cell_type": "code",
   "execution_count": 10,
   "id": "7ae3db52",
   "metadata": {},
   "outputs": [
    {
     "name": "stdout",
     "output_type": "stream",
     "text": [
      "{'Item_D': 37.8, 'Item_A': 28.5, 'Item_B': 7.2}\n",
      "7.2\n",
      "{'Item_A': 159.6, 'Item_B': 96.0, 'Item_C': 81.9, 'Item_D': 153.9, 'Item_E': 13.200000000000001, 'Item_F': 25.6}\n"
     ]
    }
   ],
   "source": [
    "#Write your code here\n",
    "    \n",
    "def calculate_daily_sale(data):\n",
    "    result = {}\n",
    "    for row in data:\n",
    "        date = row['Date']\n",
    "        item = row['Item']\n",
    "        sale = round(row['Quantity']*row['Price'],2)\n",
    "        if date not in result:\n",
    "            result[date] = {}\n",
    "        if item not in result[date]:\n",
    "            result[date][item] = 0.0\n",
    "        result[date][item] += sale\n",
    "    return result\n",
    "\n",
    "def get_total_sale(result):\n",
    "    total_sale = {}\n",
    "    for date, items in result.items():\n",
    "        for item, sale in items.items():\n",
    "            if item not in total_sale:\n",
    "                total_sale[item] = 0.0\n",
    "            total_sale[item] += sale\n",
    "    return total_sale\n",
    "\n",
    "\n",
    "path = 'Data_1.txt'\n",
    "data = []\n",
    "with open(path, 'r') as file:\n",
    "    for line in file:\n",
    "        parts = line.split()\n",
    "        data.append({'Date': parts[0], 'Item': parts[1], 'Quantity': int(parts[2]), 'Price': float(parts[3])})\n",
    "\n",
    "result = calculate_daily_sale(data)\n",
    "\n",
    "print(result[\"2020-09-25\"])\n",
    "print(result[\"2020-09-25\"][\"Item_B\"])\n",
    "\n",
    "total_sale = get_total_sale(result)\n",
    "print(total_sale)"
   ]
  },
  {
   "cell_type": "code",
   "execution_count": null,
   "id": "e8ecc336",
   "metadata": {},
   "outputs": [],
   "source": []
  }
 ],
 "metadata": {
  "kernelspec": {
   "display_name": "Python 3 (ipykernel)",
   "language": "python",
   "name": "python3"
  },
  "language_info": {
   "codemirror_mode": {
    "name": "ipython",
    "version": 3
   },
   "file_extension": ".py",
   "mimetype": "text/x-python",
   "name": "python",
   "nbconvert_exporter": "python",
   "pygments_lexer": "ipython3",
   "version": "3.11.5"
  }
 },
 "nbformat": 4,
 "nbformat_minor": 5
}
