{
 "cells": [
  {
   "cell_type": "markdown",
   "metadata": {},
   "source": [
    "# ASSIGNMENT 2 - Mohammed Raza Asfak Chidimar (MCS231004)\n",
    "\n",
    "**Topic: Chapter 3 & Chapter 4**\n",
    "- Due: 4th December 2023\n",
    "- Mode: Individual Assignment\n",
    "- Submission: E-Learning"
   ]
  },
  {
   "cell_type": "markdown",
   "metadata": {},
   "source": [
    "### QUESTION 1\n",
    "\n",
    "\n",
    "Given a raw data of the record of the attendance for 15 employees in a company for a 14 days event. The exported raw data is recorded in following way:\n",
    "\n",
    "<br>\n",
    "<center>Figure 1</center>\n",
    "<img src=\"Figure 1.png\", style=\"width: 350px\";>"
   ]
  },
  {
   "cell_type": "markdown",
   "metadata": {},
   "source": [
    "(i) Read the “Attendance_RAW.txt” and save the data into a NumPy array."
   ]
  },
  {
   "cell_type": "code",
   "execution_count": 2,
   "metadata": {},
   "outputs": [
    {
     "name": "stdout",
     "output_type": "stream",
     "text": [
      "['1' '1' '1' '1' '1' '1' '1' '1' '1' '1' '1' '1' '1' '1' '0' '1' '1' '1'\n",
      " '1' '1' '1' '1' '1' '1' '0' '1' '1' '1' '1' '1' '1' '1' '1' '1' '0' '1'\n",
      " '0' '0' '1' '1' '0' '1' '1' '0' '1' '1' '0' '1' '1' '1' '1' '0' '1' '1'\n",
      " '1' '1' '1' '0' '0' '0' '1' '1' '1' '1' '0' '0' '0' '0' '1' '1' '1' '1'\n",
      " '1' '1' '1' '1' '1' '1' '0' '1' '1' '1' '0' '1' '1' '1' '1' '0' '0' '1'\n",
      " '1' '1' '0' '1' '1' '0' '1' '1' '0' '0' '1' '1' '1' '1' '1' '1' '1' '1'\n",
      " '0' '0' '1' '0' '0' '1' '1' '1' '1' '0' '1' '0' '1' '1' '0' '1' '1' '1'\n",
      " '0' '1' '0' '1' '0' '1' '1' '1' '1' '1' '1' '0' '1' '0' '0' '0' '0' '1'\n",
      " '1' '1' '1' '1' '1' '1' '1' '1' '1' '1' '1' '1' '1' '1' '1' '1' '1' '1'\n",
      " '1' '1' '1' '1' '1' '0' '1' '1' '0' '0' '0' '0' '1' '1' '1' '1' '1' '1'\n",
      " '1' '1' '0' '0' '1' '1' '1' '1' '1' '1' '1' '1' '1' '1' '0' '1' '1' '0'\n",
      " '1' '1' '1' '0' '0' '0' '1' '0' '1' '1' '1' '1']\n"
     ]
    }
   ],
   "source": [
    "import numpy as np\n",
    "\n",
    "file_path = \"Attendance_RAW.txt\"\n",
    "attendance_data = np.genfromtxt(file_path, delimiter=',',dtype=str)\n",
    "print(attendance_data)\n"
   ]
  },
  {
   "cell_type": "markdown",
   "metadata": {},
   "source": [
    "(ii) Shape the NumPy array to a structure where row represents the employees, column represents the working days."
   ]
  },
  {
   "cell_type": "code",
   "execution_count": 3,
   "metadata": {},
   "outputs": [
    {
     "name": "stdout",
     "output_type": "stream",
     "text": [
      "[['1' '1' '1' '1' '1' '1' '1' '1' '1' '1' '1' '1' '1' '1']\n",
      " ['0' '1' '1' '1' '1' '1' '1' '1' '1' '1' '0' '1' '1' '1']\n",
      " ['1' '1' '1' '1' '1' '1' '0' '1' '0' '0' '1' '1' '0' '1']\n",
      " ['1' '0' '1' '1' '0' '1' '1' '1' '1' '0' '1' '1' '1' '1']\n",
      " ['1' '0' '0' '0' '1' '1' '1' '1' '0' '0' '0' '0' '1' '1']\n",
      " ['1' '1' '1' '1' '1' '1' '1' '1' '0' '1' '1' '1' '0' '1']\n",
      " ['1' '1' '1' '0' '0' '1' '1' '1' '0' '1' '1' '0' '1' '1']\n",
      " ['0' '0' '1' '1' '1' '1' '1' '1' '1' '1' '0' '0' '1' '0']\n",
      " ['0' '1' '1' '1' '1' '0' '1' '0' '1' '1' '0' '1' '1' '1']\n",
      " ['0' '1' '0' '1' '0' '1' '1' '1' '1' '1' '1' '0' '1' '0']\n",
      " ['0' '0' '0' '1' '1' '1' '1' '1' '1' '1' '1' '1' '1' '1']\n",
      " ['1' '1' '1' '1' '1' '1' '1' '1' '1' '1' '1' '1' '1' '0']\n",
      " ['1' '1' '0' '0' '0' '0' '1' '1' '1' '1' '1' '1' '1' '1']\n",
      " ['0' '0' '1' '1' '1' '1' '1' '1' '1' '1' '1' '1' '0' '1']\n",
      " ['1' '0' '1' '1' '1' '0' '0' '0' '1' '0' '1' '1' '1' '1']]\n"
     ]
    }
   ],
   "source": [
    "num_employees = 15\n",
    "num_days = 14\n",
    "attendance_data = attendance_data.reshape(num_employees, num_days)\n",
    "print(attendance_data)"
   ]
  },
  {
   "cell_type": "code",
   "execution_count": 6,
   "metadata": {},
   "outputs": [
    {
     "data": {
      "text/plain": [
       "array([ 9,  9, 11, 12, 11, 12, 13, 13, 11, 11, 11, 11, 12, 12])"
      ]
     },
     "execution_count": 6,
     "metadata": {},
     "output_type": "execute_result"
    }
   ],
   "source": [
    "na = na.astype(int)\n",
    "list_of_sum_all_column = np.sum(na, axis=0)\n",
    "list_of_sum_all_column = list_of_sum_all_column.tolist()"
   ]
  },
  {
   "cell_type": "markdown",
   "metadata": {},
   "source": [
    "(iii) Construct a function that can calculate and return the list of average of attendance for each day."
   ]
  },
  {
   "cell_type": "code",
   "execution_count": 16,
   "metadata": {},
   "outputs": [
    {
     "name": "stdout",
     "output_type": "stream",
     "text": [
      "Attendance of each day : [9, 9, 11, 12, 11, 12, 13, 13, 11, 11, 11, 11, 12, 12]\n",
      "Average Attendance of 14 days : 11.285714285714286\n"
     ]
    }
   ],
   "source": [
    "import numpy as np\n",
    "\n",
    "def cal_average_attendance(attendance_data):\n",
    "   \n",
    "    attendance_data = attendance_data.astype(int)\n",
    "\n",
    "    average_attendance_per_day = np.sum(attendance_data, axis=0)\n",
    "    average_of_14_days = np.mean(average_attendance_per_day)\n",
    "\n",
    "    return average_attendance_per_day.tolist(),average_of_14_days\n",
    "\n",
    "\n",
    "attendance_per_day, average_attendance  = cal_average_attendance(attendance_data)\n",
    "print(f\"Attendance of each day : {attendance_per_day}\")\n",
    "print(f\"Average Attendance of 14 days : {average_attendance}\")\n",
    "\n",
    "\n"
   ]
  },
  {
   "cell_type": "markdown",
   "metadata": {},
   "source": [
    "### QUESTION 2\n",
    "\n",
    "(i) Create a NumPy array like below:\n",
    "\n",
    "<br>\n",
    "<img src=\"Output2.png\", style=\"width: 200px\", align=\"left\";>"
   ]
  },
  {
   "cell_type": "code",
   "execution_count": 8,
   "metadata": {},
   "outputs": [
    {
     "name": "stdout",
     "output_type": "stream",
     "text": [
      "[[33 22 11]\n",
      " [55 66 44]\n",
      " [99 98 77]]\n"
     ]
    }
   ],
   "source": [
    "my_array = np.array([[33, 22, 11], [55, 66, 44], [99, 98, 77]])\n",
    "print(my_array)\n",
    "\n"
   ]
  },
  {
   "cell_type": "markdown",
   "metadata": {},
   "source": [
    "(ii) Sort the array given in ascending order."
   ]
  },
  {
   "cell_type": "code",
   "execution_count": 9,
   "metadata": {},
   "outputs": [
    {
     "name": "stdout",
     "output_type": "stream",
     "text": [
      "Sorted Array in Ascending Order:\n",
      "[[11 22 33]\n",
      " [44 55 66]\n",
      " [77 98 99]]\n"
     ]
    }
   ],
   "source": [
    "sorted_array = np.sort(my_array)\n",
    "print(\"Sorted Array in Ascending Order:\")\n",
    "print(sorted_array)\n"
   ]
  },
  {
   "cell_type": "markdown",
   "metadata": {},
   "source": [
    "(iii) Compute sum of all elements, sum of each column and sum of each row of the sorted array."
   ]
  },
  {
   "cell_type": "code",
   "execution_count": 11,
   "metadata": {},
   "outputs": [
    {
     "name": "stdout",
     "output_type": "stream",
     "text": [
      "505\n",
      "[132 175 198]\n",
      "[ 66 165 274]\n"
     ]
    }
   ],
   "source": [
    "total_sum = np.sum(sorted_array)\n",
    "print(total_sum)\n",
    "column_sums = np.sum(sorted_array, axis=0)\n",
    "print(column_sums)\n",
    "row_sums = np.sum(sorted_array, axis=1)\n",
    "print(row_sums)"
   ]
  },
  {
   "cell_type": "markdown",
   "metadata": {},
   "source": [
    "(iv) Compute mean of all elements, mean of each column and mean of each row of the sorted array.\n",
    "\n"
   ]
  },
  {
   "cell_type": "code",
   "execution_count": 12,
   "metadata": {},
   "outputs": [
    {
     "name": "stdout",
     "output_type": "stream",
     "text": [
      "Mean of all elements: 56.111111111111114\n",
      "Mean of each column : [44.         58.33333333 66.        ]\n",
      "Mean of each row : [22.         55.         91.33333333]\n"
     ]
    }
   ],
   "source": [
    "total_mean = np.mean(sorted_array)\n",
    "column_means = np.mean(sorted_array, axis=0)\n",
    "row_means = np.mean(sorted_array, axis=1)\n",
    "\n",
    "print(\"Mean of all elements:\", total_mean)\n",
    "print(f\"Mean of each column : {column_means}\")\n",
    "print(f\"Mean of each row : {row_means}\")"
   ]
  },
  {
   "cell_type": "markdown",
   "metadata": {},
   "source": [
    "(v) Compute cumulative sum of each column and cumulative product of each row of the given array.\n"
   ]
  },
  {
   "cell_type": "code",
   "execution_count": 14,
   "metadata": {},
   "outputs": [
    {
     "name": "stdout",
     "output_type": "stream",
     "text": [
      "Cumulative Sum of Columns : \n",
      "[[ 11  22  33]\n",
      " [ 55  77  99]\n",
      " [132 175 198]]\n",
      "Cumulative Product of Rows : \n",
      "[[    11    242   7986]\n",
      " [    44   2420 159720]\n",
      " [    77   7546 747054]]\n"
     ]
    }
   ],
   "source": [
    "colcumsum = np.cumsum(sorted_array, axis=0)\n",
    "row_cumprod = np.cumprod(sorted_array, axis=1)\n",
    "\n",
    "print(f\"Cumulative Sum of Columns : \\n{colcumsum}\")\n",
    "print(f\"Cumulative Product of Rows : \\n{row_cumprod}\")"
   ]
  },
  {
   "cell_type": "markdown",
   "metadata": {},
   "source": [
    "### QUESTION 3\n",
    "For this question, you are using Automobile Dataset. \n",
    "\n",
    "(i) Load the dataset into pandas dataframe."
   ]
  },
  {
   "cell_type": "code",
   "execution_count": 15,
   "metadata": {},
   "outputs": [],
   "source": [
    "import pandas as pd\n",
    "\n",
    "file_path = \"Automobile Dataset.csv\"\n",
    "df = pd.read_csv(file_path)\n"
   ]
  },
  {
   "cell_type": "markdown",
   "metadata": {},
   "source": [
    "(ii) Display the first and last 5 rows."
   ]
  },
  {
   "cell_type": "code",
   "execution_count": 16,
   "metadata": {},
   "outputs": [
    {
     "name": "stdout",
     "output_type": "stream",
     "text": [
      "Here is the first 5 rows:\n"
     ]
    },
    {
     "data": {
      "text/html": [
       "<div>\n",
       "<style scoped>\n",
       "    .dataframe tbody tr th:only-of-type {\n",
       "        vertical-align: middle;\n",
       "    }\n",
       "\n",
       "    .dataframe tbody tr th {\n",
       "        vertical-align: top;\n",
       "    }\n",
       "\n",
       "    .dataframe thead th {\n",
       "        text-align: right;\n",
       "    }\n",
       "</style>\n",
       "<table border=\"1\" class=\"dataframe\">\n",
       "  <thead>\n",
       "    <tr style=\"text-align: right;\">\n",
       "      <th></th>\n",
       "      <th>index</th>\n",
       "      <th>company</th>\n",
       "      <th>body-style</th>\n",
       "      <th>wheel-base</th>\n",
       "      <th>length</th>\n",
       "      <th>engine-type</th>\n",
       "      <th>num-of-cylinders</th>\n",
       "      <th>horsepower</th>\n",
       "      <th>average-mileage</th>\n",
       "      <th>price</th>\n",
       "    </tr>\n",
       "  </thead>\n",
       "  <tbody>\n",
       "    <tr>\n",
       "      <th>0</th>\n",
       "      <td>0</td>\n",
       "      <td>alfa-romero</td>\n",
       "      <td>convertible</td>\n",
       "      <td>88.6</td>\n",
       "      <td>168.8</td>\n",
       "      <td>dohc</td>\n",
       "      <td>four</td>\n",
       "      <td>111</td>\n",
       "      <td>21</td>\n",
       "      <td>13495.0</td>\n",
       "    </tr>\n",
       "    <tr>\n",
       "      <th>1</th>\n",
       "      <td>1</td>\n",
       "      <td>alfa-romero</td>\n",
       "      <td>convertible</td>\n",
       "      <td>88.6</td>\n",
       "      <td>168.8</td>\n",
       "      <td>dohc</td>\n",
       "      <td>four</td>\n",
       "      <td>111</td>\n",
       "      <td>21</td>\n",
       "      <td>16500.0</td>\n",
       "    </tr>\n",
       "    <tr>\n",
       "      <th>2</th>\n",
       "      <td>2</td>\n",
       "      <td>alfa-romero</td>\n",
       "      <td>hatchback</td>\n",
       "      <td>94.5</td>\n",
       "      <td>171.2</td>\n",
       "      <td>ohcv</td>\n",
       "      <td>six</td>\n",
       "      <td>154</td>\n",
       "      <td>19</td>\n",
       "      <td>16500.0</td>\n",
       "    </tr>\n",
       "    <tr>\n",
       "      <th>3</th>\n",
       "      <td>3</td>\n",
       "      <td>audi</td>\n",
       "      <td>sedan</td>\n",
       "      <td>99.8</td>\n",
       "      <td>176.6</td>\n",
       "      <td>ohc</td>\n",
       "      <td>four</td>\n",
       "      <td>102</td>\n",
       "      <td>24</td>\n",
       "      <td>13950.0</td>\n",
       "    </tr>\n",
       "    <tr>\n",
       "      <th>4</th>\n",
       "      <td>4</td>\n",
       "      <td>audi</td>\n",
       "      <td>sedan</td>\n",
       "      <td>99.4</td>\n",
       "      <td>176.6</td>\n",
       "      <td>ohc</td>\n",
       "      <td>five</td>\n",
       "      <td>115</td>\n",
       "      <td>18</td>\n",
       "      <td>17450.0</td>\n",
       "    </tr>\n",
       "  </tbody>\n",
       "</table>\n",
       "</div>"
      ],
      "text/plain": [
       "   index      company   body-style  wheel-base  length engine-type  \\\n",
       "0      0  alfa-romero  convertible        88.6   168.8        dohc   \n",
       "1      1  alfa-romero  convertible        88.6   168.8        dohc   \n",
       "2      2  alfa-romero    hatchback        94.5   171.2        ohcv   \n",
       "3      3         audi        sedan        99.8   176.6         ohc   \n",
       "4      4         audi        sedan        99.4   176.6         ohc   \n",
       "\n",
       "  num-of-cylinders  horsepower  average-mileage    price  \n",
       "0             four         111               21  13495.0  \n",
       "1             four         111               21  16500.0  \n",
       "2              six         154               19  16500.0  \n",
       "3             four         102               24  13950.0  \n",
       "4             five         115               18  17450.0  "
      ]
     },
     "execution_count": 16,
     "metadata": {},
     "output_type": "execute_result"
    }
   ],
   "source": [
    "print(\"Here is the first 5 rows:\")\n",
    "df.head(5)"
   ]
  },
  {
   "cell_type": "code",
   "execution_count": 17,
   "metadata": {},
   "outputs": [
    {
     "data": {
      "text/html": [
       "<div>\n",
       "<style scoped>\n",
       "    .dataframe tbody tr th:only-of-type {\n",
       "        vertical-align: middle;\n",
       "    }\n",
       "\n",
       "    .dataframe tbody tr th {\n",
       "        vertical-align: top;\n",
       "    }\n",
       "\n",
       "    .dataframe thead th {\n",
       "        text-align: right;\n",
       "    }\n",
       "</style>\n",
       "<table border=\"1\" class=\"dataframe\">\n",
       "  <thead>\n",
       "    <tr style=\"text-align: right;\">\n",
       "      <th></th>\n",
       "      <th>index</th>\n",
       "      <th>company</th>\n",
       "      <th>body-style</th>\n",
       "      <th>wheel-base</th>\n",
       "      <th>length</th>\n",
       "      <th>engine-type</th>\n",
       "      <th>num-of-cylinders</th>\n",
       "      <th>horsepower</th>\n",
       "      <th>average-mileage</th>\n",
       "      <th>price</th>\n",
       "    </tr>\n",
       "  </thead>\n",
       "  <tbody>\n",
       "    <tr>\n",
       "      <th>56</th>\n",
       "      <td>81</td>\n",
       "      <td>volkswagen</td>\n",
       "      <td>sedan</td>\n",
       "      <td>97.3</td>\n",
       "      <td>171.7</td>\n",
       "      <td>ohc</td>\n",
       "      <td>four</td>\n",
       "      <td>85</td>\n",
       "      <td>27</td>\n",
       "      <td>7975.0</td>\n",
       "    </tr>\n",
       "    <tr>\n",
       "      <th>57</th>\n",
       "      <td>82</td>\n",
       "      <td>volkswagen</td>\n",
       "      <td>sedan</td>\n",
       "      <td>97.3</td>\n",
       "      <td>171.7</td>\n",
       "      <td>ohc</td>\n",
       "      <td>four</td>\n",
       "      <td>52</td>\n",
       "      <td>37</td>\n",
       "      <td>7995.0</td>\n",
       "    </tr>\n",
       "    <tr>\n",
       "      <th>58</th>\n",
       "      <td>86</td>\n",
       "      <td>volkswagen</td>\n",
       "      <td>sedan</td>\n",
       "      <td>97.3</td>\n",
       "      <td>171.7</td>\n",
       "      <td>ohc</td>\n",
       "      <td>four</td>\n",
       "      <td>100</td>\n",
       "      <td>26</td>\n",
       "      <td>9995.0</td>\n",
       "    </tr>\n",
       "    <tr>\n",
       "      <th>59</th>\n",
       "      <td>87</td>\n",
       "      <td>volvo</td>\n",
       "      <td>sedan</td>\n",
       "      <td>104.3</td>\n",
       "      <td>188.8</td>\n",
       "      <td>ohc</td>\n",
       "      <td>four</td>\n",
       "      <td>114</td>\n",
       "      <td>23</td>\n",
       "      <td>12940.0</td>\n",
       "    </tr>\n",
       "    <tr>\n",
       "      <th>60</th>\n",
       "      <td>88</td>\n",
       "      <td>volvo</td>\n",
       "      <td>wagon</td>\n",
       "      <td>104.3</td>\n",
       "      <td>188.8</td>\n",
       "      <td>ohc</td>\n",
       "      <td>four</td>\n",
       "      <td>114</td>\n",
       "      <td>23</td>\n",
       "      <td>13415.0</td>\n",
       "    </tr>\n",
       "  </tbody>\n",
       "</table>\n",
       "</div>"
      ],
      "text/plain": [
       "    index     company body-style  wheel-base  length engine-type  \\\n",
       "56     81  volkswagen      sedan        97.3   171.7         ohc   \n",
       "57     82  volkswagen      sedan        97.3   171.7         ohc   \n",
       "58     86  volkswagen      sedan        97.3   171.7         ohc   \n",
       "59     87       volvo      sedan       104.3   188.8         ohc   \n",
       "60     88       volvo      wagon       104.3   188.8         ohc   \n",
       "\n",
       "   num-of-cylinders  horsepower  average-mileage    price  \n",
       "56             four          85               27   7975.0  \n",
       "57             four          52               37   7995.0  \n",
       "58             four         100               26   9995.0  \n",
       "59             four         114               23  12940.0  \n",
       "60             four         114               23  13415.0  "
      ]
     },
     "execution_count": 17,
     "metadata": {},
     "output_type": "execute_result"
    }
   ],
   "source": [
    "df.tail(5)"
   ]
  },
  {
   "cell_type": "markdown",
   "metadata": {},
   "source": [
    "(iii) Print most expensive car’s company name and price."
   ]
  },
  {
   "cell_type": "code",
   "execution_count": 21,
   "metadata": {},
   "outputs": [
    {
     "name": "stdout",
     "output_type": "stream",
     "text": [
      "35\n",
      "The most expensive car is from mercedes-benz with a price of $45400.0\n"
     ]
    }
   ],
   "source": [
    "max_price_index = df['price'].idxmax()\n",
    "print(max_price_index)\n",
    "most_expensive_company = df.loc[max_price_index, 'company']\n",
    "most_expensive_price = df.loc[max_price_index, 'price']\n",
    "print(f\"The most expensive car is from {most_expensive_company} with a price of ${most_expensive_price}\")\n"
   ]
  },
  {
   "cell_type": "markdown",
   "metadata": {},
   "source": [
    "(iv) Count total cars per company."
   ]
  },
  {
   "cell_type": "code",
   "execution_count": 54,
   "metadata": {},
   "outputs": [
    {
     "name": "stdout",
     "output_type": "stream",
     "text": [
      "Total of cars per companies : \n",
      "company\n",
      "toyota           7\n",
      "bmw              6\n",
      "mazda            5\n",
      "nissan           5\n",
      "audi             4\n",
      "mercedes-benz    4\n",
      "mitsubishi       4\n",
      "volkswagen       4\n",
      "alfa-romero      3\n",
      "chevrolet        3\n",
      "honda            3\n",
      "isuzu            3\n",
      "jaguar           3\n",
      "porsche          3\n",
      "dodge            2\n",
      "volvo            2\n",
      "Name: count, dtype: int64 \n"
     ]
    }
   ],
   "source": [
    "cars_per_company = df['company'].value_counts()\n",
    "print(f\"Total of cars per companies : \\n{cars_per_company} \")"
   ]
  },
  {
   "cell_type": "markdown",
   "metadata": {},
   "source": [
    "(v) Select only Toyota's cars. Find the average mileage and price of Toyota's cars."
   ]
  },
  {
   "cell_type": "code",
   "execution_count": 55,
   "metadata": {},
   "outputs": [
    {
     "name": "stdout",
     "output_type": "stream",
     "text": [
      "Average mileage of Toyota's cars: 28.71 miles per gallon\n",
      "Average price of Toyota's cars: $8216.86\n"
     ]
    }
   ],
   "source": [
    "toyota_cars = df[df['company'] == 'toyota']\n",
    "average_mileage_toyota = toyota_cars['average-mileage'].mean()\n",
    "average_price_toyota = toyota_cars['price'].mean()\n",
    "print(f\"Average mileage of Toyota's cars: {average_mileage_toyota:.2f} miles per gallon\")\n",
    "print(f\"Average price of Toyota's cars: ${average_price_toyota:.2f}\")"
   ]
  },
  {
   "cell_type": "markdown",
   "metadata": {},
   "source": [
    "(vi) Sort all cars by Price and Horsepower column. List the expensive cars first."
   ]
  },
  {
   "cell_type": "code",
   "execution_count": 56,
   "metadata": {},
   "outputs": [
    {
     "name": "stdout",
     "output_type": "stream",
     "text": [
      "Cars are sorted by Price and Horsepower : \n",
      "    index        company   body-style  wheel-base  length engine-type  \\\n",
      "35     47  mercedes-benz      hardtop       112.0   199.2        ohcv   \n",
      "11     14            bmw        sedan       103.5   193.8         ohc   \n",
      "34     46  mercedes-benz        sedan       120.9   208.1        ohcv   \n",
      "46     62        porsche  convertible        89.5   168.9        ohcf   \n",
      "12     15            bmw        sedan       110.0   197.0         ohc   \n",
      "..    ...            ...          ...         ...     ...         ...   \n",
      "27     36          mazda    hatchback        93.1   159.1         ohc   \n",
      "13     16      chevrolet    hatchback        88.4   141.1           l   \n",
      "47     63        porsche    hatchback        98.4   175.7       dohcv   \n",
      "22     31          isuzu        sedan        94.5   155.9         ohc   \n",
      "23     32          isuzu        sedan        94.5   155.9         ohc   \n",
      "\n",
      "   num-of-cylinders  horsepower  average-mileage    price  \n",
      "35            eight         184               14  45400.0  \n",
      "11              six         182               16  41315.0  \n",
      "34            eight         184               14  40960.0  \n",
      "46              six         207               17  37028.0  \n",
      "12              six         182               15  36880.0  \n",
      "..              ...         ...              ...      ...  \n",
      "27             four          68               30   5195.0  \n",
      "13            three          48               47   5151.0  \n",
      "47            eight         288               17      NaN  \n",
      "22             four          70               38      NaN  \n",
      "23             four          70               38      NaN  \n",
      "\n",
      "[61 rows x 10 columns]\n"
     ]
    }
   ],
   "source": [
    "sorted_cars = df.sort_values(by=['price', 'horsepower'], ascending=[False,False])\n",
    "print(f\"Cars are sorted by Price and Horsepower : \\n{sorted_cars}\")"
   ]
  },
  {
   "cell_type": "markdown",
   "metadata": {},
   "source": [
    "(vii) Display all the maximum car price for each company."
   ]
  },
  {
   "cell_type": "code",
   "execution_count": 57,
   "metadata": {},
   "outputs": [
    {
     "name": "stdout",
     "output_type": "stream",
     "text": [
      "Maximum car price for individual companies : \n",
      "company\n",
      "alfa-romero      16500.0\n",
      "audi             18920.0\n",
      "bmw              41315.0\n",
      "chevrolet         6575.0\n",
      "dodge             6377.0\n",
      "honda            12945.0\n",
      "isuzu             6785.0\n",
      "jaguar           36000.0\n",
      "mazda            18344.0\n",
      "mercedes-benz    45400.0\n",
      "mitsubishi        8189.0\n",
      "nissan           13499.0\n",
      "porsche          37028.0\n",
      "toyota           15750.0\n",
      "volkswagen        9995.0\n",
      "volvo            13415.0\n",
      "Name: price, dtype: float64\n"
     ]
    }
   ],
   "source": [
    "max_price_per_company = df.groupby('company')['price'].max()\n",
    "print(f\"Maximum car price for individual companies : \\n{max_price_per_company}\")"
   ]
  },
  {
   "cell_type": "markdown",
   "metadata": {},
   "source": [
    "### QUESTION 4\n",
    "\n",
    "\n",
    "Given a data file, “emp_detail.csv” which consists of the employee’s details - name and department.\n",
    "\n",
    "<br>\n",
    "<img src=\"Figure 2.png\", style=\"width: 250px\";>"
   ]
  },
  {
   "cell_type": "markdown",
   "metadata": {},
   "source": [
    "(i) Using Pandas library, read the CSV data file in Python into a variable ``emp_detail``."
   ]
  },
  {
   "cell_type": "code",
   "execution_count": 58,
   "metadata": {},
   "outputs": [],
   "source": [
    "import pandas as pd\n",
    "file_path = 'emp_detail.csv'\n",
    "emp_detail = pd.read_csv(file_path)"
   ]
  },
  {
   "cell_type": "markdown",
   "metadata": {},
   "source": [
    "(ii) Display the first five rows of records of the data read in Step (i)."
   ]
  },
  {
   "cell_type": "code",
   "execution_count": 59,
   "metadata": {},
   "outputs": [
    {
     "name": "stdout",
     "output_type": "stream",
     "text": [
      "      Name Department\n",
      "0      ALI    FINANCE\n",
      "1    AHMAD   STAFFING\n",
      "2    CHONG    FINANCE\n",
      "3   DARREN   STAFFING\n",
      "4  JASMINE   STAFFING\n"
     ]
    }
   ],
   "source": [
    "print(emp_detail.head(5))"
   ]
  },
  {
   "cell_type": "markdown",
   "metadata": {},
   "source": [
    "(iii) Using the NumPy object of the attendance record created earlier:<br>\n",
    "            a.\tConvert the NumPy object into Data Frame, name it attendance.<br>\n",
    "            b.\tMerge the Data Frames ``emp_detail`` and attendance into a new data frame, name it ``emp_attendance``. "
   ]
  },
  {
   "cell_type": "code",
   "execution_count": 23,
   "metadata": {},
   "outputs": [
    {
     "name": "stdout",
     "output_type": "stream",
     "text": [
      "Attendance DataFrame : \n",
      "    Day1  Day2  Day3  Day4  Day5  Day6  Day7  Day8  Day9  Day10  Day11  Day12  \\\n",
      "0      1     1     1     1     1     1     1     1     1      1      1      1   \n",
      "1      0     1     1     1     1     1     1     1     1      1      0      1   \n",
      "2      1     1     1     1     1     1     0     1     0      0      1      1   \n",
      "3      1     0     1     1     0     1     1     1     1      0      1      1   \n",
      "4      1     0     0     0     1     1     1     1     0      0      0      0   \n",
      "5      1     1     1     1     1     1     1     1     0      1      1      1   \n",
      "6      1     1     1     0     0     1     1     1     0      1      1      0   \n",
      "7      0     0     1     1     1     1     1     1     1      1      0      0   \n",
      "8      0     1     1     1     1     0     1     0     1      1      0      1   \n",
      "9      0     1     0     1     0     1     1     1     1      1      1      0   \n",
      "10     0     0     0     1     1     1     1     1     1      1      1      1   \n",
      "11     1     1     1     1     1     1     1     1     1      1      1      1   \n",
      "12     1     1     0     0     0     0     1     1     1      1      1      1   \n",
      "13     0     0     1     1     1     1     1     1     1      1      1      1   \n",
      "14     1     0     1     1     1     0     0     0     1      0      1      1   \n",
      "\n",
      "    Day13  Day14  \n",
      "0       1      1  \n",
      "1       1      1  \n",
      "2       0      1  \n",
      "3       1      1  \n",
      "4       1      1  \n",
      "5       0      1  \n",
      "6       1      1  \n",
      "7       1      0  \n",
      "8       1      1  \n",
      "9       1      0  \n",
      "10      1      1  \n",
      "11      1      0  \n",
      "12      1      1  \n",
      "13      0      1  \n",
      "14      1      1  \n",
      "\n",
      "Employee Details DataFrame : \n",
      "       Name Department\n",
      "0       ALI    FINANCE\n",
      "1     AHMAD   STAFFING\n",
      "2     CHONG    FINANCE\n",
      "3    DARREN   STAFFING\n",
      "4   JASMINE   STAFFING\n",
      "5    JOSHUA   STAFFING\n",
      "6     KELLY    FINANCE\n",
      "7       LIM    FINANCE\n",
      "8   NATASHA    FINANCE\n",
      "9      OMAR   STAFFING\n",
      "10   PATRIC   STAFFING\n",
      "11     ROSE   STAFFING\n",
      "12    SATYA   STAFFING\n",
      "13    TARIQ   STAFFING\n",
      "14    USMAN   STAFFING\n",
      "\n",
      "Merged DataFrame (emp_attendance) :\n",
      "        Name Department  Day1  Day2  Day3  Day4  Day5  Day6  Day7  Day8  Day9  \\\n",
      "0       ALI    FINANCE     1     1     1     1     1     1     1     1     1   \n",
      "1     AHMAD   STAFFING     0     1     1     1     1     1     1     1     1   \n",
      "2     CHONG    FINANCE     1     1     1     1     1     1     0     1     0   \n",
      "3    DARREN   STAFFING     1     0     1     1     0     1     1     1     1   \n",
      "4   JASMINE   STAFFING     1     0     0     0     1     1     1     1     0   \n",
      "5    JOSHUA   STAFFING     1     1     1     1     1     1     1     1     0   \n",
      "6     KELLY    FINANCE     1     1     1     0     0     1     1     1     0   \n",
      "7       LIM    FINANCE     0     0     1     1     1     1     1     1     1   \n",
      "8   NATASHA    FINANCE     0     1     1     1     1     0     1     0     1   \n",
      "9      OMAR   STAFFING     0     1     0     1     0     1     1     1     1   \n",
      "10   PATRIC   STAFFING     0     0     0     1     1     1     1     1     1   \n",
      "11     ROSE   STAFFING     1     1     1     1     1     1     1     1     1   \n",
      "12    SATYA   STAFFING     1     1     0     0     0     0     1     1     1   \n",
      "13    TARIQ   STAFFING     0     0     1     1     1     1     1     1     1   \n",
      "14    USMAN   STAFFING     1     0     1     1     1     0     0     0     1   \n",
      "\n",
      "    Day10  Day11  Day12  Day13  Day14  \n",
      "0       1      1      1      1      1  \n",
      "1       1      0      1      1      1  \n",
      "2       0      1      1      0      1  \n",
      "3       0      1      1      1      1  \n",
      "4       0      0      0      1      1  \n",
      "5       1      1      1      0      1  \n",
      "6       1      1      0      1      1  \n",
      "7       1      0      0      1      0  \n",
      "8       1      0      1      1      1  \n",
      "9       1      1      0      1      0  \n",
      "10      1      1      1      1      1  \n",
      "11      1      1      1      1      0  \n",
      "12      1      1      1      1      1  \n",
      "13      1      1      1      0      1  \n",
      "14      0      1      1      1      1  \n"
     ]
    }
   ],
   "source": [
    "attendance = pd.DataFrame(attendance_data, columns=['Day1', 'Day2', 'Day3', 'Day4', 'Day5', 'Day6', 'Day7', 'Day8', 'Day9', 'Day10', 'Day11', 'Day12', 'Day13', 'Day14'])\n",
    "emp_detail = pd.read_csv('emp_detail.csv')\n",
    "emp_attendance = pd.concat([emp_detail, attendance], axis=1)\n",
    "\n",
    "\n",
    "print(f\"Attendance DataFrame : \\n{attendance}\")\n",
    "print(f\"\\nEmployee Details DataFrame : \\n{emp_detail}\")\n",
    "print(f\"\\nMerged DataFrame (emp_attendance) :\\n {emp_attendance}\")"
   ]
  },
  {
   "cell_type": "markdown",
   "metadata": {},
   "source": [
    "(v) Add a column with name ``rate`` into the ``emp_attendance`` Data Frame that consists of the attendance rate / percentage the employee throughout the 14 days."
   ]
  },
  {
   "cell_type": "code",
   "execution_count": 32,
   "metadata": {},
   "outputs": [
    {
     "name": "stdout",
     "output_type": "stream",
     "text": [
      "Updated DataFrame (emp_attendance with total column) : \n",
      "       Name Department  Day1  Day2  Day3  Day4  Day5  Day6  Day7  Day8  Day9  \\\n",
      "0       ALI    FINANCE     1     1     1     1     1     1     1     1     1   \n",
      "1     AHMAD   STAFFING     0     1     1     1     1     1     1     1     1   \n",
      "2     CHONG    FINANCE     1     1     1     1     1     1     0     1     0   \n",
      "3    DARREN   STAFFING     1     0     1     1     0     1     1     1     1   \n",
      "4   JASMINE   STAFFING     1     0     0     0     1     1     1     1     0   \n",
      "5    JOSHUA   STAFFING     1     1     1     1     1     1     1     1     0   \n",
      "6     KELLY    FINANCE     1     1     1     0     0     1     1     1     0   \n",
      "7       LIM    FINANCE     0     0     1     1     1     1     1     1     1   \n",
      "8   NATASHA    FINANCE     0     1     1     1     1     0     1     0     1   \n",
      "9      OMAR   STAFFING     0     1     0     1     0     1     1     1     1   \n",
      "10   PATRIC   STAFFING     0     0     0     1     1     1     1     1     1   \n",
      "11     ROSE   STAFFING     1     1     1     1     1     1     1     1     1   \n",
      "12    SATYA   STAFFING     1     1     0     0     0     0     1     1     1   \n",
      "13    TARIQ   STAFFING     0     0     1     1     1     1     1     1     1   \n",
      "14    USMAN   STAFFING     1     0     1     1     1     0     0     0     1   \n",
      "\n",
      "    Day10  Day11  Day12  Day13  Day14  total        rate    status  \n",
      "0       1      1      1      1      1     14  100.000000      Good  \n",
      "1       1      0      1      1      1     12   85.714286  Moderate  \n",
      "2       0      1      1      0      1     10   71.428571  Moderate  \n",
      "3       0      1      1      1      1     11   78.571429  Moderate  \n",
      "4       0      0      0      1      1      7   50.000000       Bad  \n",
      "5       1      1      1      0      1     12   85.714286  Moderate  \n",
      "6       1      1      0      1      1     10   71.428571  Moderate  \n",
      "7       1      0      0      1      0      9   64.285714  Moderate  \n",
      "8       1      0      1      1      1     10   71.428571  Moderate  \n",
      "9       1      1      0      1      0      9   64.285714  Moderate  \n",
      "10      1      1      1      1      1     11   78.571429  Moderate  \n",
      "11      1      1      1      1      0     13   92.857143      Good  \n",
      "12      1      1      1      1      1     10   71.428571  Moderate  \n",
      "13      1      1      1      0      1     11   78.571429  Moderate  \n",
      "14      0      1      1      1      1      9   64.285714  Moderate  \n",
      "Updated DataFrame (emp_attendance with rate column) : \n",
      "       Name Department  Day1  Day2  Day3  Day4  Day5  Day6  Day7  Day8  Day9  \\\n",
      "0       ALI    FINANCE     1     1     1     1     1     1     1     1     1   \n",
      "1     AHMAD   STAFFING     0     1     1     1     1     1     1     1     1   \n",
      "2     CHONG    FINANCE     1     1     1     1     1     1     0     1     0   \n",
      "3    DARREN   STAFFING     1     0     1     1     0     1     1     1     1   \n",
      "4   JASMINE   STAFFING     1     0     0     0     1     1     1     1     0   \n",
      "5    JOSHUA   STAFFING     1     1     1     1     1     1     1     1     0   \n",
      "6     KELLY    FINANCE     1     1     1     0     0     1     1     1     0   \n",
      "7       LIM    FINANCE     0     0     1     1     1     1     1     1     1   \n",
      "8   NATASHA    FINANCE     0     1     1     1     1     0     1     0     1   \n",
      "9      OMAR   STAFFING     0     1     0     1     0     1     1     1     1   \n",
      "10   PATRIC   STAFFING     0     0     0     1     1     1     1     1     1   \n",
      "11     ROSE   STAFFING     1     1     1     1     1     1     1     1     1   \n",
      "12    SATYA   STAFFING     1     1     0     0     0     0     1     1     1   \n",
      "13    TARIQ   STAFFING     0     0     1     1     1     1     1     1     1   \n",
      "14    USMAN   STAFFING     1     0     1     1     1     0     0     0     1   \n",
      "\n",
      "    Day10  Day11  Day12  Day13  Day14  total        rate    status  \n",
      "0       1      1      1      1      1     14  100.000000      Good  \n",
      "1       1      0      1      1      1     12   85.714286  Moderate  \n",
      "2       0      1      1      0      1     10   71.428571  Moderate  \n",
      "3       0      1      1      1      1     11   78.571429  Moderate  \n",
      "4       0      0      0      1      1      7   50.000000       Bad  \n",
      "5       1      1      1      0      1     12   85.714286  Moderate  \n",
      "6       1      1      0      1      1     10   71.428571  Moderate  \n",
      "7       1      0      0      1      0      9   64.285714  Moderate  \n",
      "8       1      0      1      1      1     10   71.428571  Moderate  \n",
      "9       1      1      0      1      0      9   64.285714  Moderate  \n",
      "10      1      1      1      1      1     11   78.571429  Moderate  \n",
      "11      1      1      1      1      0     13   92.857143      Good  \n",
      "12      1      1      1      1      1     10   71.428571  Moderate  \n",
      "13      1      1      1      0      1     11   78.571429  Moderate  \n",
      "14      0      1      1      1      1      9   64.285714  Moderate  \n"
     ]
    }
   ],
   "source": [
    "emp_attendance['total'] = emp_attendance[['Day1', 'Day2', 'Day3', 'Day4', 'Day5', 'Day6', 'Day7', 'Day8', 'Day9', 'Day10', 'Day11', 'Day12', 'Day13', 'Day14']].sum(axis=1)\n",
    "print(f\"Updated DataFrame (emp_attendance with total column) : \\n{emp_attendance}\")\n",
    "\n",
    "emp_attendance['rate'] = (emp_attendance['total'] / 14) * 100\n",
    "print(f\"Updated DataFrame (emp_attendance with rate column) : \\n{emp_attendance}\")"
   ]
  },
  {
   "cell_type": "markdown",
   "metadata": {},
   "source": [
    "(vi) Consider following rules in classify the attendance:<br>\n",
    "        a.\tRate > 90% : Good <br>\n",
    "        b.\t60% < Rate < 90% : Moderate <br>\n",
    "        c.\tRate < 60% : Bad <br>\n",
    "    Based on the grouping rule above, get the status for each of the staff and save the status in a new column ``status`` in the Data Frame."
   ]
  },
  {
   "cell_type": "code",
   "execution_count": 26,
   "metadata": {},
   "outputs": [
    {
     "name": "stdout",
     "output_type": "stream",
     "text": [
      "Updated DataFrame (emp_attendance with status column) :\n",
      "        Name Department  Day1  Day2  Day3  Day4  Day5  Day6  Day7  Day8  Day9  \\\n",
      "0       ALI    FINANCE     1     1     1     1     1     1     1     1     1   \n",
      "1     AHMAD   STAFFING     0     1     1     1     1     1     1     1     1   \n",
      "2     CHONG    FINANCE     1     1     1     1     1     1     0     1     0   \n",
      "3    DARREN   STAFFING     1     0     1     1     0     1     1     1     1   \n",
      "4   JASMINE   STAFFING     1     0     0     0     1     1     1     1     0   \n",
      "5    JOSHUA   STAFFING     1     1     1     1     1     1     1     1     0   \n",
      "6     KELLY    FINANCE     1     1     1     0     0     1     1     1     0   \n",
      "7       LIM    FINANCE     0     0     1     1     1     1     1     1     1   \n",
      "8   NATASHA    FINANCE     0     1     1     1     1     0     1     0     1   \n",
      "9      OMAR   STAFFING     0     1     0     1     0     1     1     1     1   \n",
      "10   PATRIC   STAFFING     0     0     0     1     1     1     1     1     1   \n",
      "11     ROSE   STAFFING     1     1     1     1     1     1     1     1     1   \n",
      "12    SATYA   STAFFING     1     1     0     0     0     0     1     1     1   \n",
      "13    TARIQ   STAFFING     0     0     1     1     1     1     1     1     1   \n",
      "14    USMAN   STAFFING     1     0     1     1     1     0     0     0     1   \n",
      "\n",
      "    Day10  Day11  Day12  Day13  Day14  total        rate    status  \n",
      "0       1      1      1      1      1     14  100.000000      Good  \n",
      "1       1      0      1      1      1     12   85.714286  Moderate  \n",
      "2       0      1      1      0      1     10   71.428571  Moderate  \n",
      "3       0      1      1      1      1     11   78.571429  Moderate  \n",
      "4       0      0      0      1      1      7   50.000000       Bad  \n",
      "5       1      1      1      0      1     12   85.714286  Moderate  \n",
      "6       1      1      0      1      1     10   71.428571  Moderate  \n",
      "7       1      0      0      1      0      9   64.285714  Moderate  \n",
      "8       1      0      1      1      1     10   71.428571  Moderate  \n",
      "9       1      1      0      1      0      9   64.285714  Moderate  \n",
      "10      1      1      1      1      1     11   78.571429  Moderate  \n",
      "11      1      1      1      1      0     13   92.857143      Good  \n",
      "12      1      1      1      1      1     10   71.428571  Moderate  \n",
      "13      1      1      1      0      1     11   78.571429  Moderate  \n",
      "14      0      1      1      1      1      9   64.285714  Moderate  \n"
     ]
    }
   ],
   "source": [
    "emp_attendance['status'] = pd.cut(emp_attendance['rate'], bins=[0, 60, 90, 101], labels=['Bad', 'Moderate', 'Good'], right=False)\n",
    "print(f\"Updated DataFrame (emp_attendance with status column) :\\n {emp_attendance}\")"
   ]
  },
  {
   "cell_type": "markdown",
   "metadata": {},
   "source": [
    "(vii) Construct a function that returns the average attendance of all staff over the 14 days according to the department. "
   ]
  },
  {
   "cell_type": "code",
   "execution_count": 33,
   "metadata": {},
   "outputs": [
    {
     "name": "stdout",
     "output_type": "stream",
     "text": [
      "Average Attendance for all staff in each department :\n",
      "Department\n",
      "FINANCE     75.714286\n",
      "STAFFING    75.000000\n",
      "Name: rate, dtype: float64\n",
      "\n"
     ]
    }
   ],
   "source": [
    "def average_attendance_by_department(df):\n",
    "    average_by_department = df.groupby('Department')['rate'].mean()\n",
    "    return average_by_department\n",
    "\n",
    "\n",
    "average_attendance = average_attendance_by_department(emp_attendance)\n",
    "print(f\"Average Attendance for all staff in each department :\\n{average_attendance}\")\n",
    "print()\n",
    "\n"
   ]
  }
 ],
 "metadata": {
  "kernelspec": {
   "display_name": "Python 3 (ipykernel)",
   "language": "python",
   "name": "python3"
  },
  "language_info": {
   "codemirror_mode": {
    "name": "ipython",
    "version": 3
   },
   "file_extension": ".py",
   "mimetype": "text/x-python",
   "name": "python",
   "nbconvert_exporter": "python",
   "pygments_lexer": "ipython3",
   "version": "3.11.5"
  }
 },
 "nbformat": 4,
 "nbformat_minor": 4
}
