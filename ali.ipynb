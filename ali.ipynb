{
 "cells": [
  {
   "cell_type": "markdown",
   "id": "b573ff0a",
   "metadata": {},
   "source": [
    "# Final Examination MCSD 1163 Big Data Computing\n",
    "\n",
    "#### Instructions:\n",
    "\n",
    "1. Answer all questions in the answer booklet given (ipynb file).\n",
    "2. Rename the answer booklet with your matric number and name.\n",
    "3. Upload the answer booklet into the given submission folder in e-learning."
   ]
  },
  {
   "cell_type": "markdown",
   "id": "dda629e6",
   "metadata": {},
   "source": [
    "## QUESTION 1 [25 MARKS]\n",
    "\n",
    "For questions 1(a) - 1(c), use only **Python Basics**. No libraries or packages are allowed to be imported.\n",
    "\n",
    "### Question 1(a) - 15 marks\n",
    "\n",
    "Create a function named ``calculate_result`` which receive any values and perform these tasks:\n",
    "\n",
    "(i) If the value given is a valid input (0-100), the function returns these parameters:<br>\n",
    "        ``marks``: the value sent to the function <br>\n",
    "        ``status``: either 'PASS' for marks greater or equal to 40 or 'FAIL' for marks less than 40 <br>\n",
    "        ``grade``: grade given according to the marks <br>\n",
    "        ``point``: point given according to the marks\n",
    "\n",
    "(ii) If the value given is an invalid input which is out of the range, an error message \"The marks is out of range\" should be displayed. \n",
    "\n",
    "Figure 1 shows the grade and point allocated according to the marks.\n",
    "\n",
    "<br>\n",
    "<img src=\"Figure 1.png\", style=\"width: 200px\";>\n",
    "<p style=\"text-align: center;\">Figure 1</p>\n",
    "\n",
    "Your output should look like Figure 2 below. \n",
    "\n",
    "<br>\n",
    "<img src=\"Figure 2a.png\", style=\"width: 550px\";>\n",
    "<p style=\"text-align: center;\">Figure 2</p>"
   ]
  },
  {
   "cell_type": "code",
   "execution_count": 126,
   "id": "3214b344",
   "metadata": {},
   "outputs": [
    {
     "name": "stdout",
     "output_type": "stream",
     "text": [
      "{'marks': 75, 'status': 'PASS', 'grade': 'A-', 'point': 3.7}\n"
     ]
    }
   ],
   "source": [
    "def calculate_result(marks):\n",
    "    if 0 <= marks <= 100:\n",
    "        if marks >= 40:\n",
    "            if marks >= 80:\n",
    "                grade = 'A'\n",
    "                point = 4.0\n",
    "            elif marks >= 70:\n",
    "                grade = 'A-'\n",
    "                point = 3.7\n",
    "            elif marks >= 60:\n",
    "                grade = 'B+'\n",
    "                point = 3.5\n",
    "            elif marks >= 50:\n",
    "                grade = 'B'\n",
    "                point = 3.0\n",
    "            else:\n",
    "                grade = 'F'\n",
    "                point = 0.0\n",
    "            return {'marks': marks, 'status': 'PASS', 'grade': grade, 'point': point}\n",
    "        else:\n",
    "            return {'marks': marks, 'status': 'FAIL', 'grade': 'F', 'point': 0.0}\n",
    "    else:\n",
    "        return \"The marks is out of range\"\n",
    "\n",
    "result1 = calculate_result(75)\n",
    "print(result1)\n",
    "# Output: {'marks': 75, 'status': 'PASS', 'grade': 'B+', 'point': 3.5}\n"
   ]
  },
  {
   "cell_type": "markdown",
   "id": "9f95d668",
   "metadata": {},
   "source": [
    "### Question 1(b) - 5 marks\n",
    "\n",
    "A list of strings is given. Write a function called `string_lengths_dict` that takes in a list of strings as input and returns the dictionary using dictionary comprehension. The dictionary that will be created should have the keys which are the strings from the list, and the corresponding values are the lengths of the strings. \n",
    "\n",
    "Example:<br>\n",
    "If the input list is <br> `['apple', 'banana', 'cherry', 'date']`,<br> the function should return <br>`{'apple': 5, 'banana': 6, 'cherry': 6, 'date': 4}`."
   ]
  },
  {
   "cell_type": "code",
   "execution_count": 65,
   "id": "6ae94683",
   "metadata": {},
   "outputs": [
    {
     "name": "stdout",
     "output_type": "stream",
     "text": [
      "{'apple': 5, 'banana': 6, 'cherry': 6, 'date': 4}\n"
     ]
    }
   ],
   "source": [
    "# write your code here\n",
    "\n",
    "def string_lengths_dict(string_list):\n",
    "    return {string: len(string) for string in string_list}\n",
    "input_list = ['apple', 'banana', 'cherry', 'date']\n",
    "result = string_lengths_dict(input_list)\n",
    "print(result)\n",
    "# Output: {'apple': 5, 'banana': 6, 'cherry': 6, 'date': 4}\n"
   ]
  },
  {
   "cell_type": "code",
   "execution_count": 66,
   "id": "39c73957",
   "metadata": {},
   "outputs": [
    {
     "name": "stdout",
     "output_type": "stream",
     "text": [
      "{'apple': 5, 'banana': 6, 'cherry': 6, 'date': 4}\n"
     ]
    }
   ],
   "source": [
    "# Test the function\n",
    "words = ['apple', 'banana', 'cherry', 'date']\n",
    "result = string_lengths_dict(words)\n",
    "print(result)"
   ]
  },
  {
   "cell_type": "markdown",
   "id": "0bac455b",
   "metadata": {},
   "source": [
    "### Question 1(c) - 5 marks\n",
    "\n",
    "A list of names in the format \"first_name last_name\" is given. Your task is to sort the list of names based on the last name in ascending order. Write a function called `sort_names_by_last_name` that takes in a list of names as input and uses a lambda function along with the ``sorted()`` function to solve the problem.\n",
    "\n",
    "Example:<br>\n",
    "If the input list is <br> `['John Smith', 'Alice Johnson', 'Michael Brown', 'Emily Davis']`, <br> the function should return <br> `['Michael Brown', 'Emily Davis', 'Alice Johnson', 'John Smith']`."
   ]
  },
  {
   "cell_type": "code",
   "execution_count": 3,
   "id": "457ebdfc",
   "metadata": {},
   "outputs": [],
   "source": [
    "# write your code here\n",
    "def sort_names_by_last_name(names):\n",
    "    return sorted(names, key=lambda x: x.split()[-1])\n"
   ]
  },
  {
   "cell_type": "code",
   "execution_count": 2,
   "id": "f776826d",
   "metadata": {},
   "outputs": [
    {
     "name": "stdout",
     "output_type": "stream",
     "text": [
      "['Michael Brown', 'Emily Davis', 'Alice Johnson', 'John Smith']\n"
     ]
    }
   ],
   "source": [
    "# Test the function\n",
    "name_list = ['John Smith', 'Alice Johnson', 'Michael Brown', 'Emily Davis']\n",
    "result = sort_names_by_last_name(name_list)\n",
    "print(result)"
   ]
  },
  {
   "cell_type": "markdown",
   "id": "287f9233",
   "metadata": {},
   "source": [
    "## QUESTION 2 [25 MARKS]\n",
    "\n",
    "The dataset names **ds_salaries.csv** is given. This dataset contains the salaries of jobs in data science for 2023. \n",
    "\n",
    "### Question 2(a) - (3 marks)\n",
    "\n",
    "Load the file into a DataFrame named ``salary``. Display the first 10 rows of the ``salary``."
   ]
  },
  {
   "cell_type": "code",
   "execution_count": 4,
   "id": "56442e8e",
   "metadata": {},
   "outputs": [
    {
     "data": {
      "text/html": [
       "<div>\n",
       "<style scoped>\n",
       "    .dataframe tbody tr th:only-of-type {\n",
       "        vertical-align: middle;\n",
       "    }\n",
       "\n",
       "    .dataframe tbody tr th {\n",
       "        vertical-align: top;\n",
       "    }\n",
       "\n",
       "    .dataframe thead th {\n",
       "        text-align: right;\n",
       "    }\n",
       "</style>\n",
       "<table border=\"1\" class=\"dataframe\">\n",
       "  <thead>\n",
       "    <tr style=\"text-align: right;\">\n",
       "      <th></th>\n",
       "      <th>work_year</th>\n",
       "      <th>experience_level</th>\n",
       "      <th>employment_type</th>\n",
       "      <th>job_title</th>\n",
       "      <th>salary</th>\n",
       "      <th>salary_currency</th>\n",
       "      <th>salary_in_usd</th>\n",
       "      <th>employee_residence</th>\n",
       "      <th>remote_ratio</th>\n",
       "      <th>company_location</th>\n",
       "      <th>company_size</th>\n",
       "    </tr>\n",
       "  </thead>\n",
       "  <tbody>\n",
       "    <tr>\n",
       "      <th>0</th>\n",
       "      <td>2023</td>\n",
       "      <td>SE</td>\n",
       "      <td>FT</td>\n",
       "      <td>Principal Data Scientist</td>\n",
       "      <td>80000</td>\n",
       "      <td>EUR</td>\n",
       "      <td>85847</td>\n",
       "      <td>ES</td>\n",
       "      <td>100</td>\n",
       "      <td>ES</td>\n",
       "      <td>L</td>\n",
       "    </tr>\n",
       "    <tr>\n",
       "      <th>1</th>\n",
       "      <td>2023</td>\n",
       "      <td>MI</td>\n",
       "      <td>CT</td>\n",
       "      <td>ML Engineer</td>\n",
       "      <td>30000</td>\n",
       "      <td>USD</td>\n",
       "      <td>30000</td>\n",
       "      <td>US</td>\n",
       "      <td>100</td>\n",
       "      <td>US</td>\n",
       "      <td>S</td>\n",
       "    </tr>\n",
       "    <tr>\n",
       "      <th>2</th>\n",
       "      <td>2023</td>\n",
       "      <td>MI</td>\n",
       "      <td>CT</td>\n",
       "      <td>ML Engineer</td>\n",
       "      <td>25500</td>\n",
       "      <td>USD</td>\n",
       "      <td>25500</td>\n",
       "      <td>US</td>\n",
       "      <td>100</td>\n",
       "      <td>US</td>\n",
       "      <td>S</td>\n",
       "    </tr>\n",
       "    <tr>\n",
       "      <th>3</th>\n",
       "      <td>2023</td>\n",
       "      <td>SE</td>\n",
       "      <td>FT</td>\n",
       "      <td>Data Scientist</td>\n",
       "      <td>175000</td>\n",
       "      <td>USD</td>\n",
       "      <td>175000</td>\n",
       "      <td>CA</td>\n",
       "      <td>100</td>\n",
       "      <td>CA</td>\n",
       "      <td>M</td>\n",
       "    </tr>\n",
       "    <tr>\n",
       "      <th>4</th>\n",
       "      <td>2023</td>\n",
       "      <td>SE</td>\n",
       "      <td>FT</td>\n",
       "      <td>Data Scientist</td>\n",
       "      <td>120000</td>\n",
       "      <td>USD</td>\n",
       "      <td>120000</td>\n",
       "      <td>CA</td>\n",
       "      <td>100</td>\n",
       "      <td>CA</td>\n",
       "      <td>M</td>\n",
       "    </tr>\n",
       "    <tr>\n",
       "      <th>5</th>\n",
       "      <td>2023</td>\n",
       "      <td>SE</td>\n",
       "      <td>FT</td>\n",
       "      <td>Applied Scientist</td>\n",
       "      <td>222200</td>\n",
       "      <td>USD</td>\n",
       "      <td>222200</td>\n",
       "      <td>US</td>\n",
       "      <td>0</td>\n",
       "      <td>US</td>\n",
       "      <td>L</td>\n",
       "    </tr>\n",
       "    <tr>\n",
       "      <th>6</th>\n",
       "      <td>2023</td>\n",
       "      <td>SE</td>\n",
       "      <td>FT</td>\n",
       "      <td>Applied Scientist</td>\n",
       "      <td>136000</td>\n",
       "      <td>USD</td>\n",
       "      <td>136000</td>\n",
       "      <td>US</td>\n",
       "      <td>0</td>\n",
       "      <td>US</td>\n",
       "      <td>L</td>\n",
       "    </tr>\n",
       "    <tr>\n",
       "      <th>7</th>\n",
       "      <td>2023</td>\n",
       "      <td>SE</td>\n",
       "      <td>FT</td>\n",
       "      <td>Data Scientist</td>\n",
       "      <td>219000</td>\n",
       "      <td>USD</td>\n",
       "      <td>219000</td>\n",
       "      <td>CA</td>\n",
       "      <td>0</td>\n",
       "      <td>CA</td>\n",
       "      <td>M</td>\n",
       "    </tr>\n",
       "    <tr>\n",
       "      <th>8</th>\n",
       "      <td>2023</td>\n",
       "      <td>SE</td>\n",
       "      <td>FT</td>\n",
       "      <td>Data Scientist</td>\n",
       "      <td>141000</td>\n",
       "      <td>USD</td>\n",
       "      <td>141000</td>\n",
       "      <td>CA</td>\n",
       "      <td>0</td>\n",
       "      <td>CA</td>\n",
       "      <td>M</td>\n",
       "    </tr>\n",
       "    <tr>\n",
       "      <th>9</th>\n",
       "      <td>2023</td>\n",
       "      <td>SE</td>\n",
       "      <td>FT</td>\n",
       "      <td>Data Scientist</td>\n",
       "      <td>147100</td>\n",
       "      <td>USD</td>\n",
       "      <td>147100</td>\n",
       "      <td>US</td>\n",
       "      <td>0</td>\n",
       "      <td>US</td>\n",
       "      <td>M</td>\n",
       "    </tr>\n",
       "  </tbody>\n",
       "</table>\n",
       "</div>"
      ],
      "text/plain": [
       "   work_year experience_level employment_type                 job_title  \\\n",
       "0       2023               SE              FT  Principal Data Scientist   \n",
       "1       2023               MI              CT               ML Engineer   \n",
       "2       2023               MI              CT               ML Engineer   \n",
       "3       2023               SE              FT            Data Scientist   \n",
       "4       2023               SE              FT            Data Scientist   \n",
       "5       2023               SE              FT         Applied Scientist   \n",
       "6       2023               SE              FT         Applied Scientist   \n",
       "7       2023               SE              FT            Data Scientist   \n",
       "8       2023               SE              FT            Data Scientist   \n",
       "9       2023               SE              FT            Data Scientist   \n",
       "\n",
       "   salary salary_currency  salary_in_usd employee_residence  remote_ratio  \\\n",
       "0   80000             EUR          85847                 ES           100   \n",
       "1   30000             USD          30000                 US           100   \n",
       "2   25500             USD          25500                 US           100   \n",
       "3  175000             USD         175000                 CA           100   \n",
       "4  120000             USD         120000                 CA           100   \n",
       "5  222200             USD         222200                 US             0   \n",
       "6  136000             USD         136000                 US             0   \n",
       "7  219000             USD         219000                 CA             0   \n",
       "8  141000             USD         141000                 CA             0   \n",
       "9  147100             USD         147100                 US             0   \n",
       "\n",
       "  company_location company_size  \n",
       "0               ES            L  \n",
       "1               US            S  \n",
       "2               US            S  \n",
       "3               CA            M  \n",
       "4               CA            M  \n",
       "5               US            L  \n",
       "6               US            L  \n",
       "7               CA            M  \n",
       "8               CA            M  \n",
       "9               US            M  "
      ]
     },
     "execution_count": 4,
     "metadata": {},
     "output_type": "execute_result"
    }
   ],
   "source": [
    "# write your code here\n",
    "\n",
    "import pandas as pd\n",
    "# Load the dataset\n",
    "salary = pd.read_csv('ds_salaries.csv')\n",
    "\n",
    "# Display the first 10 rows of the dataset\n",
    "salary.head(10)\n"
   ]
  },
  {
   "cell_type": "markdown",
   "id": "58921597",
   "metadata": {},
   "source": [
    "### Question 2(b) - (3 marks)\n",
    "\n",
    "How many rows and columns are there in the `salary`? Are there any missing values for columns in `salary`?"
   ]
  },
  {
   "cell_type": "code",
   "execution_count": 10,
   "id": "acb1fdf6",
   "metadata": {},
   "outputs": [
    {
     "name": "stdout",
     "output_type": "stream",
     "text": [
      "(1000, 11)\n",
      "Number of rows: 1000\n",
      "Number of columns: 11\n",
      "work_year             0\n",
      "experience_level      0\n",
      "employment_type       0\n",
      "job_title             0\n",
      "salary                0\n",
      "salary_currency       0\n",
      "salary_in_usd         0\n",
      "employee_residence    0\n",
      "remote_ratio          0\n",
      "company_location      0\n",
      "company_size          0\n",
      "dtype: int64\n"
     ]
    }
   ],
   "source": [
    "# write your code here\n",
    "\n",
    "import pandas as pd\n",
    "salary = pd.read_csv('ds_salaries.csv')\n",
    "\n",
    "\n",
    "# Get the shape of the DataFrame\n",
    "shape = salary.shape\n",
    "print(shape)\n",
    "\n",
    "# Extract the number of rows and columns\n",
    "num_rows = shape[0]\n",
    "num_cols = shape[1]\n",
    "\n",
    "\n",
    "# Print the shape\n",
    "print(\"Number of rows:\", num_rows)\n",
    "print(\"Number of columns:\", num_cols)\n",
    "\n",
    "# display missing values\n",
    "\n",
    "# Get the number of missing values for each column\n",
    "missing_values = salary.isnull().sum()\n",
    "\n",
    "# Print the number of missing values\n",
    "print(missing_values)"
   ]
  },
  {
   "cell_type": "markdown",
   "id": "88b2fc82",
   "metadata": {},
   "source": [
    "### Question 2(c) - (3 marks)\n",
    "\n",
    "There are 4 unique group in the `employment_type` column. List out the groups and its total."
   ]
  },
  {
   "cell_type": "code",
   "execution_count": 7,
   "id": "3bc31a98",
   "metadata": {},
   "outputs": [
    {
     "data": {
      "text/plain": [
       "employment_type\n",
       "FT    995\n",
       "CT      2\n",
       "FL      2\n",
       "PT      1\n",
       "Name: count, dtype: int64"
      ]
     },
     "execution_count": 7,
     "metadata": {},
     "output_type": "execute_result"
    }
   ],
   "source": [
    "# write your code here\n",
    "salary['employment_type'].value_counts()\n"
   ]
  },
  {
   "cell_type": "markdown",
   "id": "08c6fca5",
   "metadata": {},
   "source": [
    "### Question 2(d) - (10 marks)\n",
    "\n",
    "(i) Find the average of salary for employment based on the experience level. There are 4 levels - EN (entry), EX (executive), MI (mid level management), and SE (senior executive). "
   ]
  },
  {
   "cell_type": "code",
   "execution_count": 8,
   "id": "53fe01e1",
   "metadata": {},
   "outputs": [
    {
     "name": "stdout",
     "output_type": "stream",
     "text": [
      "experience_level\n",
      "EN    117846.862500\n",
      "EX    189832.444444\n",
      "MI    153314.640212\n",
      "SE    164204.553957\n",
      "Name: salary, dtype: float64\n"
     ]
    }
   ],
   "source": [
    "# write your code here\n",
    "import pandas as pd\n",
    "\n",
    "# Load the CSV file into a DataFrame\n",
    "salary = pd.read_csv('ds_salaries.csv')\n",
    "\n",
    "# Calculate the average salary based on experience level\n",
    "average_salary = salary.groupby('experience_level')['salary'].mean()\n",
    "\n",
    "print(average_salary)\n"
   ]
  },
  {
   "cell_type": "markdown",
   "id": "f67bb473",
   "metadata": {},
   "source": [
    "(ii) Then create a bar graph for the results in (i) as shown in Figure 3.\n",
    "\n",
    "<br>\n",
    "<img src=\"Figure 3.png\", style=\"width: 500px\";>\n",
    "<p style=\"text-align: center;\">Figure 3</p>"
   ]
  },
  {
   "cell_type": "code",
   "execution_count": 9,
   "id": "240781cb",
   "metadata": {},
   "outputs": [
    {
     "data": {
      "image/png": "[encoded data removed]",
      "text/plain": [
       "<Figure size 640x480 with 1 Axes>"
      ]
     },
     "metadata": {},
     "output_type": "display_data"
    }
   ],
   "source": [
    "import pandas as pd\n",
    "import matplotlib.pyplot as plt\n",
    "\n",
    "salary = pd.read_csv('ds_salaries.csv')\n",
    "\n",
    "# Calculate the average salary based on experience level\n",
    "average_salary = salary.groupby('experience_level')['salary'].mean()\n",
    "\n",
    "# Assign numerical values to experience levels\n",
    "experience_levels = {'EN': 1, 'EX': 2, 'MI': 3, 'SE': 4}\n",
    "x_values = [experience_levels[level] for level in average_salary.index]\n",
    "\n",
    "# Create a bar graph\n",
    "plt.bar(x_values, average_salary, color='green')\n",
    "\n",
    "\n",
    "plt.xticks(x_values, average_salary.index)\n",
    "\n",
    "# Add labels and title\n",
    "plt.xlabel('experience_level')\n",
    "plt.ylabel('average_salary')\n",
    "plt.title('Average Salary Based on Experience Level')\n",
    "\n",
    "# Display the graph\n",
    "plt.show()\n"
   ]
  },
  {
   "cell_type": "markdown",
   "id": "233ef69c",
   "metadata": {},
   "source": [
    "### Question 2(e) - (3 marks)\n",
    "\n",
    "Find the maximum salary in USD for each of the experience level based on the company size, as shown in Figure 4.<br>\n",
    "_Hint: unstack your groupby result to get the dataframe_\n",
    "\n",
    "<br>\n",
    "<img src=\"Figure 4.png\", style=\"width: 400px\";>\n",
    "<p style=\"text-align: center;\">Figure 4</p>"
   ]
  },
  {
   "cell_type": "code",
   "execution_count": 81,
   "id": "1b6b1870",
   "metadata": {},
   "outputs": [
    {
     "ename": "SyntaxError",
     "evalue": "can't assign to function call (<ipython-input-81-e8efab63026f>, line 13)",
     "output_type": "error",
     "traceback": [
      "\u001b[1;36m  File \u001b[1;32m\"<ipython-input-81-e8efab63026f>\"\u001b[1;36m, line \u001b[1;32m13\u001b[0m\n\u001b[1;33m    company_size.trans() = transpose()\u001b[0m\n\u001b[1;37m                                      ^\u001b[0m\n\u001b[1;31mSyntaxError\u001b[0m\u001b[1;31m:\u001b[0m can't assign to function call\n"
     ]
    }
   ],
   "source": [
    "# write your code here\n",
    "import pandas as pd\n",
    "\n",
    "# Load the CSV file into a DataFrame\n",
    "salary = pd.read_csv('ds_salaries.csv')\n",
    "\n",
    "# Group by 'Experience' and 'Company Size', and calculate the maximum salary\n",
    "max_salary = salary.groupby(['experience_level', 'company_size'])['salary'].max()\n",
    "\n",
    "# with experience levels as columns\n",
    "max_salary_df = max_salary.unstack()\n",
    "\n",
    "\n",
    "# Display the maximum salary DataFrame\n",
    "print(max_salary_df)\n",
    "\n"
   ]
  },
  {
   "cell_type": "markdown",
   "id": "ea5519ea",
   "metadata": {},
   "source": [
    "### Question 2(f) - (3 marks)\n",
    "\n",
    "What is the job title which received maximum salary (in USD) that an employee with senior executive level experience can earn? State the salary for it."
   ]
  },
  {
   "cell_type": "code",
   "execution_count": 14,
   "id": "05761c7d",
   "metadata": {},
   "outputs": [
    {
     "name": "stdout",
     "output_type": "stream",
     "text": [
      "job_title:  AI Scientist\n",
      "salary:  1500000\n"
     ]
    }
   ],
   "source": [
    "# write your code here\n",
    "import pandas as pd\n",
    "\n",
    "# Load the CSV file into a DataFrame\n",
    "salary = pd.read_csv('ds_salaries.csv')\n",
    "\n",
    "# for senior executive level experience\n",
    "senior_executive = salary[salary['experience_level'] == 'SE']\n",
    "\n",
    "# with the maximum salary\n",
    "max_salary_job = senior_executive[senior_executive['salary'] == senior_executive['salary'].max()]\n",
    "\n",
    "\n",
    "job_title = max_salary_job['job_title'].values[0]\n",
    "salary_value = max_salary_job['salary'].values[0]\n",
    "\n",
    "# Print the job title and salary\n",
    "print(\"job_title: \", job_title)\n",
    "print(\"salary: \", salary_value)\n",
    "\n"
   ]
  },
  {
   "cell_type": "markdown",
   "id": "7b949a2e",
   "metadata": {},
   "source": [
    "## QUESTION 3 [25 MARKS]   \n",
    "\n",
    "You have been given a dataset containing information about customer orders. However, upon inspection, you noticed that the dataset has some data quality issues that need to be addressed before further analysis. The dataset, named `customer_orders.xlsx` consists of the following columns:\n",
    "\n",
    "`Order_ID` (integer): The unique identifier for each order.<br>\n",
    "`Customer_Name` (string): The name of the customer who placed the order.<br>\n",
    "`Product_Name` (string): The name of the product that was ordered.<br>\n",
    "`Quantity` (integer): The quantity of the ordered product.<br>\n",
    "`Price` (integer): The price of the ordered product.<br>\n",
    "\n",
    "### Question 3(a) - (3 marks)\n",
    "\n",
    "(i) Load the dataset into a DataFrame named `order`. <br>\n",
    "(ii) How many orders recorded in the `order`? <br>"
   ]
  },
  {
   "cell_type": "code",
   "execution_count": 33,
   "id": "7418a072",
   "metadata": {},
   "outputs": [
    {
     "data": {
      "text/html": [
       "<div>\n",
       "<style scoped>\n",
       "    .dataframe tbody tr th:only-of-type {\n",
       "        vertical-align: middle;\n",
       "    }\n",
       "\n",
       "    .dataframe tbody tr th {\n",
       "        vertical-align: top;\n",
       "    }\n",
       "\n",
       "    .dataframe thead th {\n",
       "        text-align: right;\n",
       "    }\n",
       "</style>\n",
       "<table border=\"1\" class=\"dataframe\">\n",
       "  <thead>\n",
       "    <tr style=\"text-align: right;\">\n",
       "      <th></th>\n",
       "      <th>Order_ID</th>\n",
       "      <th>Product_Name</th>\n",
       "      <th>Price</th>\n",
       "      <th>Quantity</th>\n",
       "      <th>Customer_Name</th>\n",
       "    </tr>\n",
       "  </thead>\n",
       "  <tbody>\n",
       "    <tr>\n",
       "      <th>0</th>\n",
       "      <td>1</td>\n",
       "      <td>Product A</td>\n",
       "      <td>25.0</td>\n",
       "      <td>3.0</td>\n",
       "      <td>John Doe</td>\n",
       "    </tr>\n",
       "    <tr>\n",
       "      <th>1</th>\n",
       "      <td>2</td>\n",
       "      <td>Product B</td>\n",
       "      <td>15.0</td>\n",
       "      <td>2.0</td>\n",
       "      <td>Jane Smith</td>\n",
       "    </tr>\n",
       "    <tr>\n",
       "      <th>2</th>\n",
       "      <td>3</td>\n",
       "      <td>Product C</td>\n",
       "      <td>30.0</td>\n",
       "      <td>1.0</td>\n",
       "      <td>Adam Johnson</td>\n",
       "    </tr>\n",
       "    <tr>\n",
       "      <th>3</th>\n",
       "      <td>4</td>\n",
       "      <td>Product D</td>\n",
       "      <td>NaN</td>\n",
       "      <td>4.0</td>\n",
       "      <td>Sarah Thompson</td>\n",
       "    </tr>\n",
       "    <tr>\n",
       "      <th>4</th>\n",
       "      <td>5</td>\n",
       "      <td>Product E</td>\n",
       "      <td>20.0</td>\n",
       "      <td>NaN</td>\n",
       "      <td>Robert Williams</td>\n",
       "    </tr>\n",
       "    <tr>\n",
       "      <th>...</th>\n",
       "      <td>...</td>\n",
       "      <td>...</td>\n",
       "      <td>...</td>\n",
       "      <td>...</td>\n",
       "      <td>...</td>\n",
       "    </tr>\n",
       "    <tr>\n",
       "      <th>248</th>\n",
       "      <td>241</td>\n",
       "      <td>Product C</td>\n",
       "      <td>7.0</td>\n",
       "      <td>70.0</td>\n",
       "      <td>John Smith</td>\n",
       "    </tr>\n",
       "    <tr>\n",
       "      <th>249</th>\n",
       "      <td>242</td>\n",
       "      <td>Product A</td>\n",
       "      <td>17.0</td>\n",
       "      <td>170.0</td>\n",
       "      <td>John Smith</td>\n",
       "    </tr>\n",
       "    <tr>\n",
       "      <th>250</th>\n",
       "      <td>243</td>\n",
       "      <td>Product B</td>\n",
       "      <td>NaN</td>\n",
       "      <td>40.0</td>\n",
       "      <td>Jane Doe</td>\n",
       "    </tr>\n",
       "    <tr>\n",
       "      <th>251</th>\n",
       "      <td>244</td>\n",
       "      <td>Product C</td>\n",
       "      <td>10.0</td>\n",
       "      <td>100.0</td>\n",
       "      <td>Michael Johnson</td>\n",
       "    </tr>\n",
       "    <tr>\n",
       "      <th>252</th>\n",
       "      <td>245</td>\n",
       "      <td>Product A</td>\n",
       "      <td>13.0</td>\n",
       "      <td>130.0</td>\n",
       "      <td>Emily Davis</td>\n",
       "    </tr>\n",
       "  </tbody>\n",
       "</table>\n",
       "<p>253 rows × 5 columns</p>\n",
       "</div>"
      ],
      "text/plain": [
       "     Order_ID Product_Name  Price  Quantity    Customer_Name\n",
       "0           1    Product A   25.0       3.0         John Doe\n",
       "1           2    Product B   15.0       2.0       Jane Smith\n",
       "2           3    Product C   30.0       1.0     Adam Johnson\n",
       "3           4    Product D    NaN       4.0   Sarah Thompson\n",
       "4           5    Product E   20.0       NaN  Robert Williams\n",
       "..        ...          ...    ...       ...              ...\n",
       "248       241    Product C    7.0      70.0       John Smith\n",
       "249       242    Product A   17.0     170.0       John Smith\n",
       "250       243    Product B    NaN      40.0         Jane Doe\n",
       "251       244    Product C   10.0     100.0  Michael Johnson\n",
       "252       245    Product A   13.0     130.0      Emily Davis\n",
       "\n",
       "[253 rows x 5 columns]"
      ]
     },
     "execution_count": 33,
     "metadata": {},
     "output_type": "execute_result"
    }
   ],
   "source": [
    "# write your code here\n",
    "\n",
    "import pandas as pd\n",
    "import numpy as np\n",
    "\n",
    "# Load the dataset\n",
    "order = pd.read_excel('customer_orders.xlsx')\n",
    "order\n",
    "\n"
   ]
  },
  {
   "cell_type": "code",
   "execution_count": 34,
   "id": "f212ec0c",
   "metadata": {},
   "outputs": [
    {
     "data": {
      "text/plain": [
       "253"
      ]
     },
     "execution_count": 34,
     "metadata": {},
     "output_type": "execute_result"
    }
   ],
   "source": [
    "# total orders recorded\n",
    "totalorder = order.shape[0]\n",
    "totalorder"
   ]
  },
  {
   "cell_type": "markdown",
   "id": "32edc6be",
   "metadata": {},
   "source": [
    "### Question 3(b) - (3 marks)\n",
    "\n",
    "(i)  Find the number of duplicate orders <br>\n",
    "(ii) Remove permanently the duplicate orders"
   ]
  },
  {
   "cell_type": "code",
   "execution_count": 35,
   "id": "86b6c8b7",
   "metadata": {},
   "outputs": [
    {
     "name": "stdout",
     "output_type": "stream",
     "text": [
      "The number of duplicate orders is: 10\n"
     ]
    }
   ],
   "source": [
    "# write your code here\n",
    "# number of duplicate orders\n",
    "\n",
    "\n",
    "\n",
    "order = pd.read_excel('customer_orders.xlsx')\n",
    "# number of duplicate orders\n",
    "\n",
    "num_duplicates = order.duplicated().sum()\n",
    "\n",
    "print(f\"The number of duplicate orders is: {num_duplicates}\")\n",
    "\n",
    "\n"
   ]
  },
  {
   "cell_type": "code",
   "execution_count": 36,
   "id": "b6d87842",
   "metadata": {},
   "outputs": [
    {
     "data": {
      "text/html": [
       "<div>\n",
       "<style scoped>\n",
       "    .dataframe tbody tr th:only-of-type {\n",
       "        vertical-align: middle;\n",
       "    }\n",
       "\n",
       "    .dataframe tbody tr th {\n",
       "        vertical-align: top;\n",
       "    }\n",
       "\n",
       "    .dataframe thead th {\n",
       "        text-align: right;\n",
       "    }\n",
       "</style>\n",
       "<table border=\"1\" class=\"dataframe\">\n",
       "  <thead>\n",
       "    <tr style=\"text-align: right;\">\n",
       "      <th></th>\n",
       "      <th>Order_ID</th>\n",
       "      <th>Product_Name</th>\n",
       "      <th>Price</th>\n",
       "      <th>Quantity</th>\n",
       "      <th>Customer_Name</th>\n",
       "    </tr>\n",
       "  </thead>\n",
       "  <tbody>\n",
       "    <tr>\n",
       "      <th>0</th>\n",
       "      <td>1</td>\n",
       "      <td>Product A</td>\n",
       "      <td>25.0</td>\n",
       "      <td>3.0</td>\n",
       "      <td>John Doe</td>\n",
       "    </tr>\n",
       "    <tr>\n",
       "      <th>1</th>\n",
       "      <td>2</td>\n",
       "      <td>Product B</td>\n",
       "      <td>15.0</td>\n",
       "      <td>2.0</td>\n",
       "      <td>Jane Smith</td>\n",
       "    </tr>\n",
       "    <tr>\n",
       "      <th>2</th>\n",
       "      <td>3</td>\n",
       "      <td>Product C</td>\n",
       "      <td>30.0</td>\n",
       "      <td>1.0</td>\n",
       "      <td>Adam Johnson</td>\n",
       "    </tr>\n",
       "    <tr>\n",
       "      <th>3</th>\n",
       "      <td>4</td>\n",
       "      <td>Product D</td>\n",
       "      <td>NaN</td>\n",
       "      <td>4.0</td>\n",
       "      <td>Sarah Thompson</td>\n",
       "    </tr>\n",
       "    <tr>\n",
       "      <th>4</th>\n",
       "      <td>5</td>\n",
       "      <td>Product E</td>\n",
       "      <td>20.0</td>\n",
       "      <td>NaN</td>\n",
       "      <td>Robert Williams</td>\n",
       "    </tr>\n",
       "    <tr>\n",
       "      <th>...</th>\n",
       "      <td>...</td>\n",
       "      <td>...</td>\n",
       "      <td>...</td>\n",
       "      <td>...</td>\n",
       "      <td>...</td>\n",
       "    </tr>\n",
       "    <tr>\n",
       "      <th>248</th>\n",
       "      <td>241</td>\n",
       "      <td>Product C</td>\n",
       "      <td>7.0</td>\n",
       "      <td>70.0</td>\n",
       "      <td>John Smith</td>\n",
       "    </tr>\n",
       "    <tr>\n",
       "      <th>249</th>\n",
       "      <td>242</td>\n",
       "      <td>Product A</td>\n",
       "      <td>17.0</td>\n",
       "      <td>170.0</td>\n",
       "      <td>John Smith</td>\n",
       "    </tr>\n",
       "    <tr>\n",
       "      <th>250</th>\n",
       "      <td>243</td>\n",
       "      <td>Product B</td>\n",
       "      <td>NaN</td>\n",
       "      <td>40.0</td>\n",
       "      <td>Jane Doe</td>\n",
       "    </tr>\n",
       "    <tr>\n",
       "      <th>251</th>\n",
       "      <td>244</td>\n",
       "      <td>Product C</td>\n",
       "      <td>10.0</td>\n",
       "      <td>100.0</td>\n",
       "      <td>Michael Johnson</td>\n",
       "    </tr>\n",
       "    <tr>\n",
       "      <th>252</th>\n",
       "      <td>245</td>\n",
       "      <td>Product A</td>\n",
       "      <td>13.0</td>\n",
       "      <td>130.0</td>\n",
       "      <td>Emily Davis</td>\n",
       "    </tr>\n",
       "  </tbody>\n",
       "</table>\n",
       "<p>243 rows × 5 columns</p>\n",
       "</div>"
      ],
      "text/plain": [
       "     Order_ID Product_Name  Price  Quantity    Customer_Name\n",
       "0           1    Product A   25.0       3.0         John Doe\n",
       "1           2    Product B   15.0       2.0       Jane Smith\n",
       "2           3    Product C   30.0       1.0     Adam Johnson\n",
       "3           4    Product D    NaN       4.0   Sarah Thompson\n",
       "4           5    Product E   20.0       NaN  Robert Williams\n",
       "..        ...          ...    ...       ...              ...\n",
       "248       241    Product C    7.0      70.0       John Smith\n",
       "249       242    Product A   17.0     170.0       John Smith\n",
       "250       243    Product B    NaN      40.0         Jane Doe\n",
       "251       244    Product C   10.0     100.0  Michael Johnson\n",
       "252       245    Product A   13.0     130.0      Emily Davis\n",
       "\n",
       "[243 rows x 5 columns]"
      ]
     },
     "execution_count": 36,
     "metadata": {},
     "output_type": "execute_result"
    }
   ],
   "source": [
    "# write your code here\n",
    "\n",
    "# remove duplicate orders\n",
    "\n",
    "\n",
    "# remove the duplicate orders permanently\n",
    "order.drop_duplicates(inplace=True)\n",
    "order\n"
   ]
  },
  {
   "cell_type": "markdown",
   "id": "765a4bf1",
   "metadata": {},
   "source": [
    "### Question 3(c) - (4 marks)\n",
    "\n",
    "(i) Find the number of missing values for each column. <br>\n",
    "(ii) Remove permanently any missing values. <br>\n",
    "(iii) How many valid orders left in the `order`?"
   ]
  },
  {
   "cell_type": "code",
   "execution_count": 37,
   "id": "712393cb",
   "metadata": {},
   "outputs": [
    {
     "data": {
      "text/plain": [
       "Order_ID          0\n",
       "Product_Name     13\n",
       "Price            15\n",
       "Quantity         15\n",
       "Customer_Name     1\n",
       "dtype: int64"
      ]
     },
     "execution_count": 37,
     "metadata": {},
     "output_type": "execute_result"
    }
   ],
   "source": [
    "# write your code here\n",
    "\n",
    "# number of missing values\n",
    "order.isnull().sum()\n"
   ]
  },
  {
   "cell_type": "code",
   "execution_count": 38,
   "id": "16d2bdf4",
   "metadata": {},
   "outputs": [
    {
     "name": "stdout",
     "output_type": "stream",
     "text": [
      "The number of valid orders remaining is: 199 199\n"
     ]
    }
   ],
   "source": [
    "# write your code here\n",
    "\n",
    "#  Remove the missing values permanently\n",
    "order.dropna(inplace=True)\n",
    "\n",
    "print(f\"The number of valid orders remaining is: {order['Order_ID'].count()} {order.shape[0]}\")\n"
   ]
  },
  {
   "cell_type": "markdown",
   "id": "5597f11e",
   "metadata": {},
   "source": [
    "### Question 3(d) - (2 marks)\n",
    "\n",
    "Rename the columns as below:<br>\n",
    "- 'Order_ID' as 'Order ID'\n",
    "- 'Product_Name' as 'Product Name' \n",
    "- 'Customer_Name' as 'Customer Name'"
   ]
  },
  {
   "cell_type": "code",
   "execution_count": 39,
   "id": "988e4a5e",
   "metadata": {},
   "outputs": [
    {
     "name": "stdout",
     "output_type": "stream",
     "text": [
      "     Order ID Product Name  Price  Quantity    Customer Name\n",
      "0           1    Product A   25.0       3.0         John Doe\n",
      "1           2    Product B   15.0       2.0       Jane Smith\n",
      "2           3    Product C   30.0       1.0     Adam Johnson\n",
      "6           7    Product G   35.0       1.0       Lisa Davis\n",
      "9          10    Product C   30.0       1.0     Adam Johnson\n",
      "..        ...          ...    ...       ...              ...\n",
      "247       240    Product B    2.0      20.0      Emily Davis\n",
      "248       241    Product C    7.0      70.0       John Smith\n",
      "249       242    Product A   17.0     170.0       John Smith\n",
      "251       244    Product C   10.0     100.0  Michael Johnson\n",
      "252       245    Product A   13.0     130.0      Emily Davis\n",
      "\n",
      "[199 rows x 5 columns]\n"
     ]
    }
   ],
   "source": [
    "# Rename the columns\n",
    "order.rename(columns={\n",
    "    'Order_ID': 'Order ID',\n",
    "    'Product_Name': 'Product Name',\n",
    "    'Customer_Name': 'Customer Name'\n",
    "}, inplace=True)\n",
    "\n",
    "print(order)\n"
   ]
  },
  {
   "cell_type": "markdown",
   "id": "37195ba9",
   "metadata": {},
   "source": [
    "### Question 3(e) - (2 marks)\n",
    "\n",
    "What is the type of the attributes in `order`?"
   ]
  },
  {
   "cell_type": "code",
   "execution_count": 40,
   "id": "1eb853c7",
   "metadata": {},
   "outputs": [
    {
     "data": {
      "text/plain": [
       "Order ID           int64\n",
       "Product Name      object\n",
       "Price            float64\n",
       "Quantity         float64\n",
       "Customer Name     object\n",
       "dtype: object"
      ]
     },
     "execution_count": 40,
     "metadata": {},
     "output_type": "execute_result"
    }
   ],
   "source": [
    "# write your code her\n",
    "order.dtypes"
   ]
  },
  {
   "cell_type": "markdown",
   "id": "d42f72a0",
   "metadata": {},
   "source": [
    "### Question 3(f) - (11 marks)\n",
    "\n",
    "(i) Create a new column `Total Sale` to calculate the sale of products (`Quantity` * `Price`)<br>\n",
    "(ii) Which product has the highest sale? What is the amount of its total sale?<br>\n",
    "(iii) Create a horizontal bar graph to show the top 3 products based on their total sale.<br>\n",
    "(iv) Which customer purchased the most from this store? What is the amount that he/she has spent?"
   ]
  },
  {
   "cell_type": "code",
   "execution_count": 41,
   "id": "332ca03f",
   "metadata": {},
   "outputs": [],
   "source": [
    "# write your code here\n",
    "order['Total Sale'] = order['Quantity'] * order['Price']\n",
    "\n"
   ]
  },
  {
   "cell_type": "code",
   "execution_count": 129,
   "id": "63e8abe7",
   "metadata": {},
   "outputs": [
    {
     "name": "stdout",
     "output_type": "stream",
     "text": [
      "The product with the highest sale is 'Product A' with a total sale of 86976.0\n"
     ]
    }
   ],
   "source": [
    "# write your code here\n",
    "\n",
    "product_max_sale = order.groupby('Product Name')['Total Sale'].sum().idxmax()\n",
    "max_sale_amount = order.groupby('Product Name')['Total Sale'].sum().max()\n",
    "print(f\"The product with the highest sale is '{product_max_sale}' with a total sale of {max_sale_amount}\")\n"
   ]
  },
  {
   "cell_type": "code",
   "execution_count": 66,
   "id": "07c93013",
   "metadata": {},
   "outputs": [
    {
     "name": "stdout",
     "output_type": "stream",
     "text": [
      "Product Name\n",
      "Product A    86976.0\n",
      "Product C    27722.0\n",
      "Product B     9312.0\n",
      "Name: Total Sale, dtype: float64\n"
     ]
    },
    {
     "data": {
      "image/png": "[encoded data removed]",
      "text/plain": [
       "<Figure size 640x480 with 1 Axes>"
      ]
     },
     "metadata": {},
     "output_type": "display_data"
    }
   ],
   "source": [
    "# write your code here\n",
    "import matplotlib.pyplot as plt\n",
    "\n",
    "product_max_sale_3 = order.groupby('Product Name')['Total Sale'].sum().nlargest(3)\n",
    "\n",
    "# Create a horizontal bar graph\n",
    "plt.barh(product_max_sale_3.index, product_max_sale_3.values)\n",
    "plt.xlabel('Total Sale')\n",
    "plt.ylabel('Product Name')\n",
    "plt.title('Top 3 Products based on Total Sale')\n",
    "plt.show()\n"
   ]
  },
  {
   "cell_type": "code",
   "execution_count": 67,
   "id": "e5b43c1f",
   "metadata": {},
   "outputs": [
    {
     "name": "stdout",
     "output_type": "stream",
     "text": [
      "The customer who purchased the most from the store is 'John Smith' with a total spending of 57923.0\n"
     ]
    }
   ],
   "source": [
    "# write your code here\n",
    "customer_max_purchase = order.groupby('Customer Name')['Total Sale'].sum().idxmax()\n",
    "max_purchase_amount = order.groupby('Customer Name')['Total Sale'].sum().max()\n",
    "print(f\"The customer who purchased the most from the store is '{customer_max_purchase}' with a total spending of {max_purchase_amount}\")\n"
   ]
  },
  {
   "cell_type": "markdown",
   "id": "83aac48a",
   "metadata": {},
   "source": [
    "## QUESTION 4 [25 MARKS]\n",
    "\n",
    "The dataset names `salaries_age_gender.csv` is given. This cleaned dataset is regarding the annual salaries and wages survey for Malaysian employees for the period of 2010 to 2021.\n",
    "\n",
    "Dataset descriptions:<br>\n",
    "Variable (categorical) - Variable representing 5-year age groups <br>\n",
    "Gender (categorical) - Male or female <br>\n",
    "Mean (float) - Mean wage in RM <br>\n",
    "Median (float) - Median wage in RM <br>\n",
    "Recipients (integer) - Number of monthly wage recipients\n",
    "\n",
    "\n",
    "### Question 4(a) - (2 marks)\n",
    "Load the file into a DataFrame named ``wages``."
   ]
  },
  {
   "cell_type": "code",
   "execution_count": 130,
   "id": "9340aacd",
   "metadata": {},
   "outputs": [
    {
     "name": "stdout",
     "output_type": "stream",
     "text": [
      "    Variable  Gender  Year    Mean  Median  Recipients\n",
      "0      15-19    male  2010   726.0     650      153400\n",
      "1      15-19    male  2011   774.0     720      162500\n",
      "2      15-19    male  2012   788.0     700      160700\n",
      "3      15-19    male  2013   900.0     800      146300\n",
      "4      15-19    male  2014   917.0     900      160200\n",
      "..       ...     ...   ...     ...     ...         ...\n",
      "235    60-64  female  2017  2640.0    1300       25200\n",
      "236    60-64  female  2018  2682.0    1676       25700\n",
      "237    60-64  female  2019  2679.0    1560       36700\n",
      "238    60-64  female  2020  2304.0    1303       39600\n",
      "239    60-64  female  2021  2314.6    1757       36800\n",
      "\n",
      "[240 rows x 6 columns]\n"
     ]
    }
   ],
   "source": [
    "# write your code here\n",
    "wages = pd.read_csv('salaries_age_gender.csv')\n",
    "print(wages)"
   ]
  },
  {
   "cell_type": "markdown",
   "id": "c221c621",
   "metadata": {},
   "source": [
    "### Question 4(b) - (10 marks)\n",
    "\n",
    "(i) Group the `Mean` data in `wages` by gender for all the years, 2010-2021. The output should look like Figure 5 below.\n",
    "\n",
    "<br>\n",
    "<img src=\"Figure 5a.png\", style=\"width: 750px\";>\n",
    "<p style=\"text-align: center;\">Figure 5</p>"
   ]
  },
  {
   "cell_type": "code",
   "execution_count": 106,
   "id": "75522f94",
   "metadata": {},
   "outputs": [
    {
     "data": {
      "text/html": [
       "<div>\n",
       "<style scoped>\n",
       "    .dataframe tbody tr th:only-of-type {\n",
       "        vertical-align: middle;\n",
       "    }\n",
       "\n",
       "    .dataframe tbody tr th {\n",
       "        vertical-align: top;\n",
       "    }\n",
       "\n",
       "    .dataframe thead th {\n",
       "        text-align: right;\n",
       "    }\n",
       "</style>\n",
       "<table border=\"1\" class=\"dataframe\">\n",
       "  <thead>\n",
       "    <tr style=\"text-align: right;\">\n",
       "      <th>Year</th>\n",
       "      <th>2010</th>\n",
       "      <th>2011</th>\n",
       "      <th>2012</th>\n",
       "      <th>2013</th>\n",
       "      <th>2014</th>\n",
       "      <th>2015</th>\n",
       "      <th>2016</th>\n",
       "      <th>2017</th>\n",
       "      <th>2018</th>\n",
       "      <th>2019</th>\n",
       "      <th>2020</th>\n",
       "      <th>2021</th>\n",
       "    </tr>\n",
       "    <tr>\n",
       "      <th>Gender</th>\n",
       "      <th></th>\n",
       "      <th></th>\n",
       "      <th></th>\n",
       "      <th></th>\n",
       "      <th></th>\n",
       "      <th></th>\n",
       "      <th></th>\n",
       "      <th></th>\n",
       "      <th></th>\n",
       "      <th></th>\n",
       "      <th></th>\n",
       "      <th></th>\n",
       "    </tr>\n",
       "  </thead>\n",
       "  <tbody>\n",
       "    <tr>\n",
       "      <th>female</th>\n",
       "      <td>17863.0</td>\n",
       "      <td>18173.0</td>\n",
       "      <td>18646.0</td>\n",
       "      <td>19947.0</td>\n",
       "      <td>21846.0</td>\n",
       "      <td>23499.0</td>\n",
       "      <td>25519.0</td>\n",
       "      <td>28034.0</td>\n",
       "      <td>29669.0</td>\n",
       "      <td>30716.0</td>\n",
       "      <td>28441.0</td>\n",
       "      <td>28965.9</td>\n",
       "    </tr>\n",
       "    <tr>\n",
       "      <th>male</th>\n",
       "      <td>19709.0</td>\n",
       "      <td>20342.0</td>\n",
       "      <td>20907.0</td>\n",
       "      <td>22499.0</td>\n",
       "      <td>24282.0</td>\n",
       "      <td>25797.0</td>\n",
       "      <td>27315.0</td>\n",
       "      <td>30171.0</td>\n",
       "      <td>32427.0</td>\n",
       "      <td>33561.0</td>\n",
       "      <td>29728.0</td>\n",
       "      <td>30868.8</td>\n",
       "    </tr>\n",
       "  </tbody>\n",
       "</table>\n",
       "</div>"
      ],
      "text/plain": [
       "Year       2010     2011     2012     2013     2014     2015     2016  \\\n",
       "Gender                                                                  \n",
       "female  17863.0  18173.0  18646.0  19947.0  21846.0  23499.0  25519.0   \n",
       "male    19709.0  20342.0  20907.0  22499.0  24282.0  25797.0  27315.0   \n",
       "\n",
       "Year       2017     2018     2019     2020     2021  \n",
       "Gender                                               \n",
       "female  28034.0  29669.0  30716.0  28441.0  28965.9  \n",
       "male    30171.0  32427.0  33561.0  29728.0  30868.8  "
      ]
     },
     "execution_count": 106,
     "metadata": {},
     "output_type": "execute_result"
    }
   ],
   "source": [
    "# write your code here\n",
    "\n",
    "gender_wages = wages.groupby(['Gender','Year']) ['Mean'].sum().unstack()\n",
    "gender_wages"
   ]
  },
  {
   "cell_type": "markdown",
   "id": "1fc261ed",
   "metadata": {},
   "source": [
    "(ii) Create two horizontal bar charts to show the results in (i). The bar charts will be as shown in Figure 6.\n",
    "\n",
    "<br>\n",
    "<img src=\"Figure 5b.png\", style=\"width: 750px\";>\n",
    "<p style=\"text-align: center;\">Figure 6</p>"
   ]
  },
  {
   "cell_type": "code",
   "execution_count": 128,
   "id": "38508a68",
   "metadata": {},
   "outputs": [
    {
     "data": {
      "text/plain": [
       "array([17863. , 18173. , 18646. , 19947. , 21846. , 23499. , 25519. ,\n",
       "       28034. , 29669. , 30716. , 28441. , 28965.9])"
      ]
     },
     "execution_count": 128,
     "metadata": {},
     "output_type": "execute_result"
    }
   ],
   "source": [
    "gender_wages.values[0]"
   ]
  },
  {
   "cell_type": "code",
   "execution_count": 129,
   "id": "b17fbe4e",
   "metadata": {},
   "outputs": [
    {
     "data": {
      "image/png": "[encoded data removed]",
      "text/plain": [
       "<Figure size 1200x500 with 2 Axes>"
      ]
     },
     "metadata": {},
     "output_type": "display_data"
    }
   ],
   "source": [
    "plt.figure(figsize=(12, 5))  # Adjust the width and height as needed\n",
    "\n",
    "plt.subplot(1,2,1)\n",
    "plt.bar(gender_wages.columns,gender_wages.values[0],color='red')\n",
    "plt.title(\"Mean Wage for Female\")\n",
    "plt.ylabel('Mean Wage (RM)')\n",
    "plt.xlabel('Year')\n",
    "\n",
    "plt.subplot(1,2,2)\n",
    "plt.bar(gender_wages.columns,gender_wages.values[1],color='blue')\n",
    "plt.title(\"Mean Wage for male\")\n",
    "plt.xlabel('Year')\n",
    "\n",
    "plt.tight_layout()\n",
    "plt.show()"
   ]
  },
  {
   "cell_type": "markdown",
   "id": "4b204ea4",
   "metadata": {},
   "source": [
    "### Question 4(c) - (12 marks)\n",
    "\n",
    "Create a plot as Figure 7 that shows the median wages and mean of wages recipients  by age group for the period 2010-2021.\n",
    "The _x_,_y_ and _z_ data is given.\n",
    "\n",
    "<br>\n",
    "<img src=\"Figure 5c.png\", style=\"width: 650px\";>\n",
    "<p style=\"text-align: center;\">Figure 7</p>"
   ]
  },
  {
   "cell_type": "code",
   "execution_count": 150,
   "id": "4183f205",
   "metadata": {},
   "outputs": [
    {
     "data": {
      "image/png": "[encoded data removed]",
      "text/plain": [
       "<Figure size 1000x600 with 2 Axes>"
      ]
     },
     "metadata": {},
     "output_type": "display_data"
    }
   ],
   "source": [
    "import matplotlib.pyplot as plt\n",
    "\n",
    "# Given data\n",
    "x = list(sorted(set(wages['Variable'])))\n",
    "y = wages[['Median']].groupby([wages['Variable']]).median().values.flatten()\n",
    "z = wages[['Recipients']].groupby([wages['Variable']]).mean().values.flatten()\n",
    "\n",
    "# Creating the plot\n",
    "fig, ax1 = plt.subplots(figsize=(10,6))\n",
    "\n",
    "# Plotting Median Wages\n",
    "ax1.plot(x, y, 'b--', label='Median Wages')\n",
    "\n",
    "# Adding labels and title\n",
    "ax1.set_xlabel('Year')\n",
    "ax1.set_ylabel('Median Wages', color='blue')\n",
    "ax1.set_title('Median Wages vs Total Recipients Over Years')\n",
    "\n",
    "# Creating a second y-axis\n",
    "ax2 = ax1.twinx()\n",
    "\n",
    "# Plotting Total Recipients\n",
    "ax2.plot(x, z, 'r-', label='Total Recipients')\n",
    "\n",
    "# Adding labels for the second y-axis\n",
    "ax2.set_ylabel('Total Recipients', color='red')\n",
    "\n",
    "ax1.tick_params(axis='y', labelcolor='blue')\n",
    "ax2.tick_params(axis='y', labelcolor='red')\n",
    "\n",
    "# Adding legend to differentiate the lines\n",
    "ax1.legend(loc='upper left', bbox_to_anchor=(1.05, 1.20))\n",
    "ax2.legend(loc='upper left', bbox_to_anchor=(1.05, 1.15))\n",
    "\n",
    "# Displaying the plot\n",
    "plt.grid(True)\n",
    "plt.savefig('plot.png', bbox_inches='tight')"
   ]
  }
 ],
 "metadata": {
  "kernelspec": {
   "display_name": "Python 3 (ipykernel)",
   "language": "python",
   "name": "python3"
  },
  "language_info": {
   "codemirror_mode": {
    "name": "ipython",
    "version": 3
   },
   "file_extension": ".py",
   "mimetype": "text/x-python",
   "name": "python",
   "nbconvert_exporter": "python",
   "pygments_lexer": "ipython3",
   "version": "3.11.5"
  }
 },
 "nbformat": 4,
 "nbformat_minor": 5
}
